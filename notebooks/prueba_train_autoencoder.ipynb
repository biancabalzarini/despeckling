{
 "cells": [
  {
   "cell_type": "code",
   "execution_count": 4,
   "metadata": {},
   "outputs": [],
   "source": [
    "import sys\n",
    "sys.path.append('..')\n",
    "from scripts.GenrationGI0 import rGI0"
   ]
  },
  {
   "cell_type": "code",
   "execution_count": 6,
   "metadata": {},
   "outputs": [
    {
     "data": {
      "text/plain": [
       "(array([0.08287958, 3.17383094, 1.15957178, 1.32923541, 0.66477387,\n",
       "        0.7081316 , 0.25654254, 0.14539016, 0.17588237, 1.66288989]),\n",
       " array([0.31710564, 1.41733726, 0.15844104, 0.35498052, 1.35312715,\n",
       "        1.29125483, 0.43333577, 1.3237565 , 1.1571403 , 0.49848679]),\n",
       " array([0.02628158, 4.49838886, 0.18372376, 0.47185268, 0.89952357,\n",
       "        0.91437835, 0.11116906, 0.19246116, 0.20352058, 0.82892864]))"
      ]
     },
     "execution_count": 6,
     "metadata": {},
     "output_type": "execute_result"
    }
   ],
   "source": [
    "rGI0(n=10, p_alpha=-1.5, p_gamma=1, p_Looks=1)"
   ]
  }
 ],
 "metadata": {
  "kernelspec": {
   "display_name": "despeckling",
   "language": "python",
   "name": "python3"
  },
  "language_info": {
   "codemirror_mode": {
    "name": "ipython",
    "version": 3
   },
   "file_extension": ".py",
   "mimetype": "text/x-python",
   "name": "python",
   "nbconvert_exporter": "python",
   "pygments_lexer": "ipython3",
   "version": "3.9.17"
  }
 },
 "nbformat": 4,
 "nbformat_minor": 2
}
