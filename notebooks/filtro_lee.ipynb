{
 "cells": [
  {
   "cell_type": "code",
   "execution_count": 1,
   "id": "3e67801c",
   "metadata": {},
   "outputs": [],
   "source": [
    "import sys\n",
    "sys.path.append('..')\n",
    "\n",
    "from scripts.GenrationGI0 import generate_multiple_images, mixed_dataset\n",
    "from scripts.autoencoders import InMemoryImageDataset, ConfigurableAutoencoder\n",
    "from scripts.measuring_quality import first_order_method, co_ocurrence_matrix, deltah, second_order_method\n",
    "\n",
    "import torch\n",
    "from torchvision import transforms\n",
    "from torch.utils.data import DataLoader\n",
    "import numpy as np\n",
    "import matplotlib.pyplot as plt\n",
    "import cv2\n",
    "from omegaconf import OmegaConf\n",
    "import warnings\n",
    "import matplotlib.pyplot as plt\n",
    "import pandas as pd\n",
    "from scipy.ndimage import uniform_filter\n",
    "import random"
   ]
  },
  {
   "cell_type": "code",
   "execution_count": 2,
   "id": "c5340a20",
   "metadata": {},
   "outputs": [],
   "source": [
    "try:\n",
    "    OmegaConf.register_new_resolver(\"eval\", eval)\n",
    "except ValueError:\n",
    "    pass"
   ]
  },
  {
   "cell_type": "markdown",
   "id": "fc406b14",
   "metadata": {},
   "source": [
    "Elegir el archivo de configuración correspondiente:"
   ]
  },
  {
   "cell_type": "code",
   "execution_count": 3,
   "id": "0201f464",
   "metadata": {},
   "outputs": [
    {
     "data": {
      "text/plain": [
       "{'training': {'n': 50000, 'n_cuad_lado': [2], 'pixeles_cuad': [25], 'ratio': [1], 'num_epochs': 500, 'batch_size': 64, 'learning_rate': 0.0005, 'scheduler_name': 'None', 'scheduler_params': 'None'}, 'model': {'encoding_dim': 32, 'loss_function': 'mse', 'optimizer': 'adam'}, 'encoder': {'layers': [{'type': 'conv2d', 'filters': 16, 'kernel_size': 3, 'stride': 2, 'padding': 1, 'activation': 'relu'}, {'type': 'flatten'}, {'type': 'dense', 'dim': '${model.encoding_dim}', 'activation': 'relu'}]}, 'decoder': {'layers': [{'type': 'dense', 'dim': 10000, 'activation': 'relu'}, {'type': 'unflatten', 'dim1': 25, 'dim2': 25, 'out_channels': 16}, {'type': 'conv2d_transpose', 'filters': 1, 'kernel_size': 2, 'stride': 2, 'padding': 0, 'activation': 'sigmoid'}]}, 'testing': {'n': 1000, 'batch_size': 32}}"
      ]
     },
     "execution_count": 3,
     "metadata": {},
     "output_type": "execute_result"
    }
   ],
   "source": [
    "config_name = 'config_simetrico-lr0_0005' # Elegir\n",
    "\n",
    "config_path = f'configs/{config_name}.yaml'\n",
    "config = OmegaConf.load(config_path)\n",
    "config"
   ]
  },
  {
   "cell_type": "code",
   "execution_count": 4,
   "id": "f1637418",
   "metadata": {},
   "outputs": [],
   "source": [
    "assert len(config['training']['n_cuad_lado'])==1, 'Para simplificar las cosas, elegir un config que arme un dataset \\\n",
    "con un único tipo de partición de las imágenes.'"
   ]
  },
  {
   "cell_type": "markdown",
   "id": "86bb3f94",
   "metadata": {},
   "source": [
    "Genero dataset de testeo:"
   ]
  },
  {
   "cell_type": "code",
   "execution_count": 5,
   "id": "6e52952a",
   "metadata": {},
   "outputs": [],
   "source": [
    "n = config['testing']['n']\n",
    "batch_size = config['testing']['batch_size']\n",
    "n_cuad_lado = config['training']['n_cuad_lado']\n",
    "pixeles_cuad = config['training']['pixeles_cuad']\n",
    "\n",
    "test_g, test_gi, test_gI0, alphas = mixed_dataset(\n",
    "    n_total = n,\n",
    "    generate_multiple_images = generate_multiple_images,\n",
    "    conjunto_n_cuad_lado = n_cuad_lado,\n",
    "    conjunto_pixeles_cuad = pixeles_cuad,\n",
    "    ratios = config.training.get('ratio',[1]),\n",
    "    save_alpha_values=True\n",
    ")\n",
    "del test_g, alphas"
   ]
  },
  {
   "cell_type": "markdown",
   "id": "a4db465a",
   "metadata": {},
   "source": [
    "Normalizo:"
   ]
  },
  {
   "cell_type": "code",
   "execution_count": 6,
   "id": "b9b55e43",
   "metadata": {},
   "outputs": [],
   "source": [
    "test_gI0 = (test_gI0 - np.min(test_gI0, axis=(1, 2), keepdims=True)) / \\\n",
    "           (np.max(test_gI0, axis=(1, 2), keepdims=True) - np.min(test_gI0, axis=(1, 2), keepdims=True) + 1e-10)\n",
    "test_gi = (test_gi - np.min(test_gi, axis=(1, 2), keepdims=True)) / \\\n",
    "          (np.max(test_gi, axis=(1, 2), keepdims=True) - np.min(test_gi, axis=(1, 2), keepdims=True) + 1e-10)"
   ]
  },
  {
   "cell_type": "markdown",
   "id": "140a35c5",
   "metadata": {},
   "source": [
    "Voy a limpiar las imágenes ruidosas (test_gI0) usando el método de Lee. Cuanto más similares a las imágenes limpias (test_gi), mejor funcionó el filtro."
   ]
  },
  {
   "cell_type": "code",
   "execution_count": 7,
   "id": "fd5de637",
   "metadata": {},
   "outputs": [],
   "source": [
    "def lee_filter(image, window_size=3, noise_var=0.1):\n",
    "    \"\"\"\n",
    "    Implementación del filtro de Lee para reducción de ruido en imágenes.\n",
    "    \n",
    "    Parameters\n",
    "    ----------\n",
    "        image: np.array\n",
    "            Imagen de entrada.\n",
    "        window_size: int\n",
    "            Tamaño de la ventana, debe ser impar.\n",
    "        noise_var: float\n",
    "            Varianza estimada del ruido.\n",
    "    \n",
    "    Returns\n",
    "    -------\n",
    "        np.array\n",
    "            Imagen filtrada.\n",
    "    \"\"\"\n",
    "    if window_size % 2 == 0:\n",
    "        raise ValueError(\"El tamaño de la ventana debe ser impar\")\n",
    "    \n",
    "    # Calcula la media local usando un filtro uniforme\n",
    "    mean_local = uniform_filter(image, size=window_size)\n",
    "    \n",
    "    # Calcula la varianza local\n",
    "    sqr_local = uniform_filter(image**2, size=window_size)\n",
    "    var_local = sqr_local - mean_local**2\n",
    "    \n",
    "    # Calcula los coeficientes del filtro de Lee\n",
    "    k = 1 - (noise_var / np.maximum(var_local, noise_var))\n",
    "    \n",
    "    # Aplica el filtro\n",
    "    filtered_image = mean_local + k * (image - mean_local)\n",
    "    \n",
    "    return filtered_image"
   ]
  },
  {
   "cell_type": "markdown",
   "id": "f4f11853",
   "metadata": {},
   "source": [
    "El filtro de Lee necesita un valor para la varianza estimada del ruido. Lo calculo tomando la varianza en una zona homogénea de las imágenes, y promediando esa varianza sobre varias imágenes:"
   ]
  },
  {
   "cell_type": "code",
   "execution_count": 8,
   "id": "72a729c2",
   "metadata": {},
   "outputs": [
    {
     "data": {
      "text/plain": [
       "np.float64(0.0022903806093618824)"
      ]
     },
     "execution_count": 8,
     "metadata": {},
     "output_type": "execute_result"
    }
   ],
   "source": [
    "var = []\n",
    "for i in range(test_gI0.shape[0]):\n",
    "    var.append(np.var(test_gI0[i,0:pixeles_cuad[0],0:pixeles_cuad[0]]))\n",
    "np.mean(var)"
   ]
  },
  {
   "cell_type": "markdown",
   "id": "c2f613eb",
   "metadata": {},
   "source": [
    "Aplico el filtro a un ejemplo particular y veo como queda:"
   ]
  },
  {
   "cell_type": "code",
   "execution_count": 9,
   "id": "5e3b18b4",
   "metadata": {},
   "outputs": [
    {
     "data": {
      "image/png": "[encoded data removed]",
      "text/plain": [
       "<Figure size 1500x500 with 3 Axes>"
      ]
     },
     "metadata": {},
     "output_type": "display_data"
    }
   ],
   "source": [
    "ecualizar_hist = True\n",
    "\n",
    "i = random.randint(0, len(test_gI0) - 1)\n",
    "\n",
    "imagen_filtrada = lee_filter(test_gI0[i], window_size=3, noise_var=np.mean(var))\n",
    "\n",
    "imagenes = [test_gI0[i], test_gi[i], imagen_filtrada]\n",
    "titulos = ['Imagen ruidosa', 'Imagen limpia', 'Imagen con filtro de Lee']\n",
    "\n",
    "fig, axes = plt.subplots(1, 3, figsize=(15, 5))\n",
    "for ax, imagen, titulo in zip(axes, imagenes, titulos):\n",
    "    if ecualizar_hist:\n",
    "        imagen = ((imagen - imagen.min()) * 255) / (imagen.max() - imagen.min())\n",
    "        imagen = cv2.equalizeHist(imagen.astype(np.uint8))\n",
    "        titulo += '\\n(ecualizada)'\n",
    "    \n",
    "    ax.imshow(imagen, cmap='gray')\n",
    "    ax.set_title(titulo)\n",
    "\n",
    "plt.tight_layout()"
   ]
  }
 ],
 "metadata": {
  "kernelspec": {
   "display_name": "despeckling",
   "language": "python",
   "name": "python3"
  },
  "language_info": {
   "codemirror_mode": {
    "name": "ipython",
    "version": 3
   },
   "file_extension": ".py",
   "mimetype": "text/x-python",
   "name": "python",
   "nbconvert_exporter": "python",
   "pygments_lexer": "ipython3",
   "version": "3.9.22"
  }
 },
 "nbformat": 4,
 "nbformat_minor": 5
}
