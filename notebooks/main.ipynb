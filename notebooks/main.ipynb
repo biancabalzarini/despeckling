{
 "cells": [
  {
   "cell_type": "code",
   "execution_count": 1,
   "metadata": {},
   "outputs": [],
   "source": [
    "import sys\n",
    "sys.path.append('..')\n",
    "\n",
    "from scripts.GenrationGI0 import partitioned_gi0_image\n",
    "from scripts.autoencoders import InMemoryImageDataset, generate_multiple_images, Autoencoder\n",
    "\n",
    "import torch\n",
    "from torchvision import transforms\n",
    "from torch.utils.data import DataLoader\n",
    "import torch.nn as nn\n",
    "import torch.optim as optim\n",
    "import numpy as np\n",
    "import matplotlib.pyplot as plt\n",
    "import cv2"
   ]
  },
  {
   "cell_type": "markdown",
   "metadata": {},
   "source": [
    "---\n",
    "# Creación del dataset para entrenar"
   ]
  },
  {
   "cell_type": "code",
   "execution_count": 2,
   "metadata": {},
   "outputs": [],
   "source": [
    "## PARÁMETROS\n",
    "\n",
    "# Cantidad de imágenes a generar\n",
    "n = 50000\n",
    "# Cantidad de cuadrados por lado que van a tener las imágenes (cada cuadrado con diferentes parámetros de la GI0)\n",
    "n_cuad_lado = 2\n",
    "# Cantidad de píxeles por lado que tiene cada cuadrado de las imágenes\n",
    "pixeles_cuad = 25\n",
    "# Tamaños de los batches\n",
    "batch_size = 50"
   ]
  },
  {
   "cell_type": "code",
   "execution_count": 3,
   "metadata": {},
   "outputs": [],
   "source": [
    "train_g, train_gi, train_gI0 = generate_multiple_images(n, partitioned_gi0_image, n_cuad_lado, pixeles_cuad)"
   ]
  },
  {
   "cell_type": "code",
   "execution_count": 4,
   "metadata": {},
   "outputs": [],
   "source": [
    "normalize_to_01 = transforms.Lambda(lambda x: (x - x.min()) / (x.max() - x.min()))\n",
    "\n",
    "transform = transforms.Compose([\n",
    "    transforms.ToTensor(),\n",
    "    normalize_to_01\n",
    "])\n",
    "\n",
    "dataset_train = InMemoryImageDataset(train_gI0, train_gi, transform=transform)\n",
    "train_loader = DataLoader(dataset_train, batch_size=batch_size, shuffle=True)"
   ]
  },
  {
   "cell_type": "markdown",
   "metadata": {},
   "source": [
    "---\n",
    "# Entrenamiento"
   ]
  },
  {
   "cell_type": "code",
   "execution_count": 5,
   "metadata": {},
   "outputs": [],
   "source": [
    "# PARÁMETROS\n",
    "\n",
    "# Dimensión de la capa más interna del autoencoder\n",
    "encoding_dim = 32\n",
    "# Learning rate\n",
    "learning_rate = 1e-3\n",
    "# Cantidad de épocas\n",
    "num_epochs = 10"
   ]
  },
  {
   "cell_type": "code",
   "execution_count": 6,
   "metadata": {},
   "outputs": [],
   "source": [
    "autoencoder = Autoencoder(image_size=n_cuad_lado*pixeles_cuad, encoding_dim=encoding_dim)\n",
    "criterion = nn.BCELoss() # Utilizamos Binary Cross Entropy Loss como loss function ya que las imágenes están normalizadas en el rango [0, 1]\n",
    "optimizer = optim.Adam(autoencoder.parameters(), lr=learning_rate) # El optimizador es responsable de ajustar los pesos del modelo con el fin de minimizar la función de pérdida.\n",
    "                                                                   # Adam es un algoritmo de optimización popular y eficiente que adapta la tasa de aprendizaje de forma dinámica para cada parámetro del modelo.\n",
    "                                                                   # La tasa de aprendizaje determina qué tan rápido se ajustan los pesos del modelo durante el entrenamiento."
   ]
  },
  {
   "cell_type": "code",
   "execution_count": 7,
   "metadata": {},
   "outputs": [
    {
     "name": "stdout",
     "output_type": "stream",
     "text": [
      "Epoch [1/10], Loss: 0.1140\n",
      "Epoch [2/10], Loss: 0.1302\n",
      "Epoch [3/10], Loss: 0.1076\n",
      "Epoch [4/10], Loss: 0.1133\n",
      "Epoch [5/10], Loss: 0.0839\n",
      "Epoch [6/10], Loss: 0.1154\n",
      "Epoch [7/10], Loss: 0.1152\n",
      "Epoch [8/10], Loss: 0.1323\n",
      "Epoch [9/10], Loss: 0.1086\n",
      "Epoch [10/10], Loss: 0.1328\n"
     ]
    }
   ],
   "source": [
    "for epoch in range(num_epochs):\n",
    "    for data in train_loader:\n",
    "        entrada, salida = data\n",
    "        entrada = entrada.view(entrada.size(0), -1).float()\n",
    "        salida = salida.view(salida.size(0), -1).float()\n",
    "\n",
    "        # Forward pass\n",
    "        outputs = autoencoder(entrada) # Se pasa a las imágenes por el autoencoder, en una pasada forward.\n",
    "        loss = criterion(outputs, salida) # Se calcula la diferencia entre el output y las imágenes sin ruido, según la función de pérdida definida.\n",
    "\n",
    "        # Backward pass y optimización\n",
    "        optimizer.zero_grad() # Se restablecen los gradientes acumulados en todos los parámetros del modelo.\n",
    "                              # Esto es necesario antes de realizar el backward pass, ya que PyTorch acumula los gradientes en cada llamada a loss.backward().\n",
    "        loss.backward() # Se realiza el backward pass para calcular los gradientes de los parámetros del autoencoder utilizando la función de pérdida.\n",
    "        optimizer.step() # Finalmente se realiza la optimización de los parámetros del modelo mediante la llamada a optimizer.step(), que actualiza los parámetros en función de los gradientes calculados.\n",
    "\n",
    "    # Imprimir la pérdida del autoencoder en cada época\n",
    "    print(f\"Epoch [{epoch+1}/{num_epochs}], Loss: {loss.item():.4f}\")"
   ]
  },
  {
   "cell_type": "markdown",
   "metadata": {},
   "source": [
    "---\n",
    "# Evaluación"
   ]
  },
  {
   "cell_type": "code",
   "execution_count": 8,
   "metadata": {},
   "outputs": [],
   "source": [
    "# PARÁMETROS\n",
    "\n",
    "# Cantidad de imágenes a generar para evaluar\n",
    "n = 1000\n",
    "# Tamaños de los batches\n",
    "batch_size = 32"
   ]
  },
  {
   "cell_type": "code",
   "execution_count": 9,
   "metadata": {},
   "outputs": [],
   "source": [
    "test_g, test_gi, test_gI0 = generate_multiple_images(n, partitioned_gi0_image, n_cuad_lado, pixeles_cuad)"
   ]
  },
  {
   "cell_type": "code",
   "execution_count": 10,
   "metadata": {},
   "outputs": [],
   "source": [
    "dataset_test = InMemoryImageDataset(test_gI0, test_gi, transform=transform)\n",
    "test_loader = DataLoader(dataset_test, batch_size=batch_size, shuffle=True)"
   ]
  },
  {
   "cell_type": "code",
   "execution_count": 11,
   "metadata": {},
   "outputs": [
    {
     "name": "stdout",
     "output_type": "stream",
     "text": [
      "Average Test Loss: 0.1232\n"
     ]
    }
   ],
   "source": [
    "total_loss = 0\n",
    "with torch.no_grad(): # Esto es para asegurarse de que no se realicen cálculos de gradientes durante la evaluación del autoencoder.\n",
    "                      # Al entrar en este bloque, se desactiva el cálculo y almacenamiento automático de gradientes para reducir el uso de memoria y acelerar la evaluación.\n",
    "    for data in test_loader:\n",
    "        entrada, salida = data\n",
    "        entrada = entrada.view(entrada.size(0), -1).float() # Se modifica la forma de las imágenes para que coincida con el formato esperado por el autoencoder.\n",
    "                                                            # En este caso, las imágenes se aplanan en un tensor unidimensional. images.size(0) se utiliza para obtener el tamaño del lote.\n",
    "        salida = salida.view(salida.size(0), -1).float()\n",
    "\n",
    "        # Forward pass\n",
    "        outputs = autoencoder(entrada) # Se realiza el forward pass del autoencoder con las imágenes de prueba.\n",
    "                                       # El autoencoder genera las imágenes reconstruidas utilizando el método forward() que definimos previamente en la clase Autoencoder.\n",
    "        loss = criterion(outputs, salida) # Se calcula la pérdida entre las imágenes reconstruidas y las imágenes originales utilizando la función de pérdida (criterion).\n",
    "                                          # Esto proporciona una medida de cuánto difieren las imágenes reconstruidas de las originales.\n",
    "        total_loss += loss.item() # La pérdida obtenida en cada iteración se suma a la variable total_loss utilizando loss.item(), que devuelve el valor escalar de la pérdida.\n",
    "                                  # Al final de la iteración, total_loss contendrá la suma acumulada de las pérdidas de todas las muestras del conjunto de datos de prueba.\n",
    "\n",
    "average_loss = total_loss / len(test_loader) # Se calcula la pérdida promedio dividiendo la suma acumulada de las pérdidas (total_loss) entre el número de lotes en el conjunto de datos de prueba (len(test_loader)).\n",
    "                                             # Esto proporciona una medida promedio de la discrepancia entre las imágenes originales y las imágenes reconstruidas por el autoencoder en el conjunto de datos de prueba.\n",
    "print(f\"Average Test Loss: {average_loss:.4f}\")"
   ]
  },
  {
   "cell_type": "code",
   "execution_count": 12,
   "metadata": {},
   "outputs": [
    {
     "data": {
      "image/png": "[encoded data removed]",
      "text/plain": [
       "<Figure size 1500x500 with 3 Axes>"
      ]
     },
     "metadata": {},
     "output_type": "display_data"
    }
   ],
   "source": [
    "# Aplico el autoencoder a un ejemplo particular del dataset de testeo y veo cómo queda la\n",
    "# imagen de salida.\n",
    "\n",
    "ecualizar_hist = True  # Si se quiere o no ecualizar el histograma de la imagen\n",
    "\n",
    "###\n",
    "\n",
    "index = int(n*np.random.random()) # Índice del ejemplo puntual que se desea seleccionar\n",
    "entrada_red, salida_red = dataset_test[index]\n",
    "\n",
    "example = entrada_red.view(1, -1).float() # Ajusta la forma de la imagen a un lote de tamaño 1\n",
    "\n",
    "reconstructed = autoencoder(example) # Aplica el autoencoder al ejemplo\n",
    "\n",
    "tamanio = n_cuad_lado*pixeles_cuad\n",
    "\n",
    "entrada = entrada_red.view(tamanio, tamanio)\n",
    "salida_esperada = salida_red.view(tamanio, tamanio)\n",
    "reconstructed = reconstructed.view(tamanio, tamanio)\n",
    "\n",
    "imagenes = [entrada, salida_esperada, reconstructed.detach()]\n",
    "titulos = ['Entrada', 'Salida esperada', 'Salida de la red']\n",
    "\n",
    "fig, axes = plt.subplots(1, 3, figsize=(15, 5))\n",
    "for ax, imagen, titulo in zip(axes, imagenes, titulos):\n",
    "    if ecualizar_hist:\n",
    "        im = imagen.cpu().numpy()\n",
    "        im = ((im - im.min()) * 255) / (im.max() - im.min())\n",
    "        imagen = cv2.equalizeHist(im.astype(np.uint8))\n",
    "        titulo += '\\n(ecualizada)'\n",
    "    \n",
    "    ax.imshow(imagen, cmap='gray')\n",
    "    ax.set_title(titulo)\n",
    "\n",
    "plt.tight_layout()"
   ]
  }
 ],
 "metadata": {
  "kernelspec": {
   "display_name": "despeckling",
   "language": "python",
   "name": "python3"
  },
  "language_info": {
   "codemirror_mode": {
    "name": "ipython",
    "version": 3
   },
   "file_extension": ".py",
   "mimetype": "text/x-python",
   "name": "python",
   "nbconvert_exporter": "python",
   "pygments_lexer": "ipython3",
   "version": "3.9.20"
  }
 },
 "nbformat": 4,
 "nbformat_minor": 2
}
