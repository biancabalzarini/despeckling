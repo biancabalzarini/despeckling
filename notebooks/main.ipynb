{
 "cells": [
  {
   "cell_type": "code",
   "execution_count": 1,
   "metadata": {},
   "outputs": [],
   "source": [
    "import sys\n",
    "sys.path.append('..')\n",
    "\n",
    "from scripts.GenrationGI0 import partitioned_gi0_image, generate_multiple_images, mixed_dataset\n",
    "from scripts.autoencoders import InMemoryImageDataset, ConfigurableAutoencoder\n",
    "\n",
    "import pandas as pd\n",
    "import torch\n",
    "from torchvision import transforms\n",
    "from torch.utils.data import DataLoader\n",
    "import torch.nn as nn\n",
    "import torch.optim as optim\n",
    "from torchsummary import summary\n",
    "import numpy as np\n",
    "import matplotlib.pyplot as plt\n",
    "import cv2\n",
    "from omegaconf import OmegaConf"
   ]
  },
  {
   "cell_type": "code",
   "execution_count": 2,
   "metadata": {},
   "outputs": [],
   "source": [
    "try:\n",
    "    OmegaConf.register_new_resolver(\"eval\", eval)\n",
    "except ValueError:\n",
    "    pass"
   ]
  },
  {
   "cell_type": "markdown",
   "metadata": {},
   "source": [
    "Elegir el archivo de configuración correspondiente:"
   ]
  },
  {
   "cell_type": "code",
   "execution_count": 3,
   "metadata": {},
   "outputs": [
    {
     "data": {
      "text/plain": [
       "{'training': {'n': 50000, 'n_cuad_lado': [2], 'pixeles_cuad': [25], 'ratio': [1], 'num_epochs': 70, 'batch_size': 64, 'learning_rate': 0.001, 'scheduler_name': 'elr', 'scheduler_params': {'gamma': 0.95}}, 'model': {'encoding_dim': 128, 'loss_function': 'mse', 'optimizer': 'adam'}, 'encoder': {'layers': [{'type': 'conv2d', 'filters': 8, 'kernel_size': 3, 'stride': 2, 'padding': 1, 'activation': 'relu'}, {'type': 'conv2d', 'filters': 16, 'kernel_size': 3, 'stride': 2, 'padding': 1, 'activation': 'relu'}, {'type': 'flatten'}, {'type': 'dense', 'dim': '${model.encoding_dim}', 'activation': 'relu'}]}, 'decoder': {'layers': [{'type': 'dense', 'dim': 2704, 'activation': 'relu'}, {'type': 'unflatten', 'dim1': 13, 'dim2': 13, 'out_channels': 16}, {'type': 'conv2d_transpose', 'filters': 8, 'kernel_size': 3, 'stride': 2, 'padding': 1, 'activation': 'relu'}, {'type': 'conv2d_transpose', 'filters': 1, 'kernel_size': 2, 'stride': 2, 'padding': 0, 'activation': 'sigmoid'}]}, 'testing': {'n': 1000, 'batch_size': 32}}"
      ]
     },
     "execution_count": 3,
     "metadata": {},
     "output_type": "execute_result"
    }
   ],
   "source": [
    "config_name = 'config_simetrico-2conv_128encod-short_train' # Elegir\n",
    "\n",
    "config_path = f'configs/{config_name}.yaml'\n",
    "config = OmegaConf.load(config_path)\n",
    "config"
   ]
  },
  {
   "cell_type": "markdown",
   "metadata": {},
   "source": [
    "---\n",
    "# Creación del dataset para entrenar"
   ]
  },
  {
   "cell_type": "code",
   "execution_count": 4,
   "metadata": {},
   "outputs": [],
   "source": [
    "n = config['training']['n']\n",
    "n_cuad_lado = config['training']['n_cuad_lado']\n",
    "pixeles_cuad = config['training']['pixeles_cuad']\n",
    "batch_size = config['training']['batch_size']"
   ]
  },
  {
   "cell_type": "code",
   "execution_count": 5,
   "metadata": {},
   "outputs": [],
   "source": [
    "train_g, train_gi, train_gI0 = mixed_dataset(\n",
    "    n_total = n,\n",
    "    generate_multiple_images = generate_multiple_images,\n",
    "    conjunto_n_cuad_lado = n_cuad_lado,\n",
    "    conjunto_pixeles_cuad = pixeles_cuad,\n",
    "    ratios = config.training.get('ratio',[1]),\n",
    ")"
   ]
  },
  {
   "cell_type": "code",
   "execution_count": 6,
   "metadata": {},
   "outputs": [],
   "source": [
    "normalize_to_01 = transforms.Lambda(lambda x: (x - x.min()) / (x.max() - x.min()))\n",
    "\n",
    "transform = transforms.Compose([\n",
    "    transforms.ToTensor(),\n",
    "    normalize_to_01\n",
    "])\n",
    "\n",
    "dataset_train = InMemoryImageDataset(train_gI0, train_gi, transform=transform)\n",
    "train_loader = DataLoader(dataset_train, batch_size=batch_size, shuffle=True)"
   ]
  },
  {
   "cell_type": "markdown",
   "metadata": {},
   "source": [
    "---\n",
    "# Entrenamiento"
   ]
  },
  {
   "cell_type": "code",
   "execution_count": 7,
   "metadata": {},
   "outputs": [],
   "source": [
    "num_epochs = config['training']['num_epochs']\n",
    "learning_rate = config['training']['learning_rate']\n",
    "scheduler_name = config['training']['scheduler_name']"
   ]
  },
  {
   "cell_type": "code",
   "execution_count": 8,
   "metadata": {},
   "outputs": [
    {
     "data": {
      "text/plain": [
       "ConfigurableAutoencoder(\n",
       "  (encoder): Sequential(\n",
       "    (0): Conv2d(1, 8, kernel_size=(3, 3), stride=(2, 2), padding=(1, 1))\n",
       "    (1): ReLU()\n",
       "    (2): Conv2d(8, 16, kernel_size=(3, 3), stride=(2, 2), padding=(1, 1))\n",
       "    (3): ReLU()\n",
       "    (4): Flatten(start_dim=1, end_dim=-1)\n",
       "    (5): Linear(in_features=2704, out_features=128, bias=True)\n",
       "    (6): ReLU()\n",
       "  )\n",
       "  (decoder): Sequential(\n",
       "    (0): Linear(in_features=128, out_features=2704, bias=True)\n",
       "    (1): ReLU()\n",
       "    (2): Unflatten(dim=1, unflattened_size=(16, 13, 13))\n",
       "    (3): ConvTranspose2d(16, 8, kernel_size=(3, 3), stride=(2, 2), padding=(1, 1))\n",
       "    (4): ReLU()\n",
       "    (5): ConvTranspose2d(8, 1, kernel_size=(2, 2), stride=(2, 2))\n",
       "    (6): Sigmoid()\n",
       "  )\n",
       ")"
      ]
     },
     "execution_count": 8,
     "metadata": {},
     "output_type": "execute_result"
    }
   ],
   "source": [
    "autoencoder = ConfigurableAutoencoder(config=config)\n",
    "autoencoder"
   ]
  },
  {
   "cell_type": "code",
   "execution_count": 9,
   "metadata": {},
   "outputs": [
    {
     "name": "stdout",
     "output_type": "stream",
     "text": [
      "----------------------------------------------------------------\n",
      "        Layer (type)               Output Shape         Param #\n",
      "================================================================\n",
      "            Conv2d-1            [-1, 8, 25, 25]              80\n",
      "              ReLU-2            [-1, 8, 25, 25]               0\n",
      "            Conv2d-3           [-1, 16, 13, 13]           1,168\n",
      "              ReLU-4           [-1, 16, 13, 13]               0\n",
      "           Flatten-5                 [-1, 2704]               0\n",
      "            Linear-6                  [-1, 128]         346,240\n",
      "              ReLU-7                  [-1, 128]               0\n",
      "            Linear-8                 [-1, 2704]         348,816\n",
      "              ReLU-9                 [-1, 2704]               0\n",
      "        Unflatten-10           [-1, 16, 13, 13]               0\n",
      "  ConvTranspose2d-11            [-1, 8, 25, 25]           1,160\n",
      "             ReLU-12            [-1, 8, 25, 25]               0\n",
      "  ConvTranspose2d-13            [-1, 1, 50, 50]              33\n",
      "          Sigmoid-14            [-1, 1, 50, 50]               0\n",
      "================================================================\n",
      "Total params: 697,497\n",
      "Trainable params: 697,497\n",
      "Non-trainable params: 0\n",
      "----------------------------------------------------------------\n",
      "Input size (MB): 0.01\n",
      "Forward/backward pass size (MB): 0.32\n",
      "Params size (MB): 2.66\n",
      "Estimated Total Size (MB): 2.99\n",
      "----------------------------------------------------------------\n"
     ]
    }
   ],
   "source": [
    "ncl = n_cuad_lado[0]\n",
    "pc = pixeles_cuad[0]\n",
    "\n",
    "summary(\n",
    "    autoencoder,\n",
    "    (1, ncl*pc, ncl*pc) # (nro_de_canales, alto, ancho) de las imágenes de entrada\n",
    ")\n",
    "# El -1 que se ve en la primera posición de todos los output shapes es un placeholder para el tamaño del batch"
   ]
  },
  {
   "cell_type": "code",
   "execution_count": 10,
   "metadata": {},
   "outputs": [],
   "source": [
    "loss = config['model']['loss_function'].lower()\n",
    "opt = config['model']['optimizer'].lower()\n",
    "\n",
    "if loss == 'mse':\n",
    "    criterion = nn.MSELoss()\n",
    "elif loss == 'bce':\n",
    "    criterion = nn.BCELoss()\n",
    "\n",
    "if opt == 'adam':\n",
    "    optimizer = optim.Adam(\n",
    "        autoencoder.parameters(), \n",
    "        lr=learning_rate\n",
    "    )\n",
    "elif optim == 'sgd':\n",
    "    optimizer = optim.SGD(\n",
    "        autoencoder.parameters(), \n",
    "        lr=learning_rate,\n",
    "        momentum=0.9\n",
    "    )"
   ]
  },
  {
   "cell_type": "code",
   "execution_count": 11,
   "metadata": {},
   "outputs": [],
   "source": [
    "if scheduler_name is None:\n",
    "    pass\n",
    "\n",
    "elif scheduler_name.lower() == \"rlrop\":\n",
    "    # ReduceLROnPlateau - reduce el lr cuando el loss deja de mejorar\n",
    "    scheduler = torch.optim.lr_scheduler.ReduceLROnPlateau(\n",
    "        optimizer,\n",
    "        mode=config.training.scheduler_params.get('mode','min'),\n",
    "        factor=config.training.scheduler_params.get('factor',0.1),   # Reduce el lr por este factor\n",
    "        patience=config.training.scheduler_params.get('patience',5)  # Espera estas épocas antes de reducir\n",
    "    )\n",
    "\n",
    "elif scheduler_name.lower() == \"slr\":\n",
    "    # StepLR - reduce el lr cada cierto número de épocas\n",
    "    scheduler = torch.optim.lr_scheduler.StepLR(\n",
    "        optimizer,\n",
    "        step_size=config.training.scheduler_params.get('step_size',7),  # Cada step_size épocas\n",
    "        gamma=config.training.scheduler_params.get('gamma',0.1)         # Reduce por este factor\n",
    "    )\n",
    "\n",
    "elif scheduler_name.lower() == \"elr\":\n",
    "    # ExponentialLR - reduce el lr exponencialmente\n",
    "    scheduler = torch.optim.lr_scheduler.ExponentialLR(\n",
    "        optimizer,\n",
    "        gamma=config.training.scheduler_params.get('gamma',0.95)  # Factor de reducción por época\n",
    "    )"
   ]
  },
  {
   "cell_type": "code",
   "execution_count": 12,
   "metadata": {},
   "outputs": [
    {
     "name": "stdout",
     "output_type": "stream",
     "text": [
      "lr: [0.00095]\n",
      "Epoch [1/70], Loss: 0.0106\n",
      "lr: [0.0009025]\n",
      "Epoch [2/70], Loss: 0.0034\n",
      "lr: [0.000857375]\n",
      "Epoch [3/70], Loss: 0.0027\n",
      "lr: [0.0008145062499999999]\n",
      "Epoch [4/70], Loss: 0.0026\n",
      "lr: [0.0007737809374999998]\n",
      "Epoch [5/70], Loss: 0.0026\n",
      "lr: [0.0007350918906249997]\n",
      "Epoch [6/70], Loss: 0.0026\n",
      "lr: [0.0006983372960937497]\n",
      "Epoch [7/70], Loss: 0.0026\n",
      "lr: [0.0006634204312890621]\n",
      "Epoch [8/70], Loss: 0.0026\n",
      "lr: [0.000630249409724609]\n",
      "Epoch [9/70], Loss: 0.0026\n",
      "lr: [0.0005987369392383785]\n",
      "Epoch [10/70], Loss: 0.0026\n",
      "lr: [0.0005688000922764595]\n",
      "Epoch [11/70], Loss: 0.0025\n",
      "lr: [0.0005403600876626365]\n",
      "Epoch [12/70], Loss: 0.0025\n",
      "lr: [0.0005133420832795047]\n",
      "Epoch [13/70], Loss: 0.0025\n",
      "lr: [0.00048767497911552944]\n",
      "Epoch [14/70], Loss: 0.0025\n",
      "lr: [0.00046329123015975297]\n",
      "Epoch [15/70], Loss: 0.0025\n",
      "lr: [0.0004401266686517653]\n",
      "Epoch [16/70], Loss: 0.0025\n",
      "lr: [0.00041812033521917703]\n",
      "Epoch [17/70], Loss: 0.0025\n",
      "lr: [0.00039721431845821814]\n",
      "Epoch [18/70], Loss: 0.0025\n",
      "lr: [0.0003773536025353072]\n",
      "Epoch [19/70], Loss: 0.0025\n",
      "lr: [0.0003584859224085418]\n",
      "Epoch [20/70], Loss: 0.0025\n",
      "lr: [0.0003405616262881147]\n",
      "Epoch [21/70], Loss: 0.0025\n",
      "lr: [0.00032353354497370894]\n",
      "Epoch [22/70], Loss: 0.0025\n",
      "lr: [0.00030735686772502346]\n",
      "Epoch [23/70], Loss: 0.0025\n",
      "lr: [0.00029198902433877225]\n",
      "Epoch [24/70], Loss: 0.0025\n",
      "lr: [0.00027738957312183364]\n",
      "Epoch [25/70], Loss: 0.0024\n",
      "lr: [0.0002635200944657419]\n",
      "Epoch [26/70], Loss: 0.0024\n",
      "lr: [0.0002503440897424548]\n",
      "Epoch [27/70], Loss: 0.0024\n",
      "lr: [0.00023782688525533205]\n",
      "Epoch [28/70], Loss: 0.0024\n",
      "lr: [0.00022593554099256544]\n",
      "Epoch [29/70], Loss: 0.0024\n",
      "lr: [0.00021463876394293716]\n",
      "Epoch [30/70], Loss: 0.0024\n",
      "lr: [0.0002039068257457903]\n",
      "Epoch [31/70], Loss: 0.0024\n",
      "lr: [0.00019371148445850077]\n",
      "Epoch [32/70], Loss: 0.0024\n",
      "lr: [0.00018402591023557573]\n",
      "Epoch [33/70], Loss: 0.0024\n",
      "lr: [0.00017482461472379692]\n",
      "Epoch [34/70], Loss: 0.0024\n",
      "lr: [0.00016608338398760707]\n",
      "Epoch [35/70], Loss: 0.0024\n",
      "lr: [0.0001577792147882267]\n",
      "Epoch [36/70], Loss: 0.0024\n",
      "lr: [0.00014989025404881537]\n",
      "Epoch [37/70], Loss: 0.0024\n",
      "lr: [0.00014239574134637458]\n",
      "Epoch [38/70], Loss: 0.0024\n",
      "lr: [0.00013527595427905584]\n",
      "Epoch [39/70], Loss: 0.0024\n",
      "lr: [0.00012851215656510304]\n",
      "Epoch [40/70], Loss: 0.0024\n",
      "lr: [0.00012208654873684788]\n",
      "Epoch [41/70], Loss: 0.0024\n",
      "lr: [0.00011598222130000548]\n",
      "Epoch [42/70], Loss: 0.0024\n",
      "lr: [0.00011018311023500519]\n",
      "Epoch [43/70], Loss: 0.0024\n",
      "lr: [0.00010467395472325493]\n",
      "Epoch [44/70], Loss: 0.0024\n",
      "lr: [9.944025698709218e-05]\n",
      "Epoch [45/70], Loss: 0.0024\n",
      "lr: [9.446824413773756e-05]\n",
      "Epoch [46/70], Loss: 0.0024\n",
      "lr: [8.974483193085068e-05]\n",
      "Epoch [47/70], Loss: 0.0024\n",
      "lr: [8.525759033430814e-05]\n",
      "Epoch [48/70], Loss: 0.0024\n",
      "lr: [8.099471081759274e-05]\n",
      "Epoch [49/70], Loss: 0.0024\n",
      "lr: [7.69449752767131e-05]\n",
      "Epoch [50/70], Loss: 0.0024\n",
      "lr: [7.309772651287744e-05]\n",
      "Epoch [51/70], Loss: 0.0024\n",
      "lr: [6.944284018723356e-05]\n",
      "Epoch [52/70], Loss: 0.0024\n",
      "lr: [6.597069817787189e-05]\n",
      "Epoch [53/70], Loss: 0.0024\n",
      "lr: [6.267216326897829e-05]\n",
      "Epoch [54/70], Loss: 0.0024\n",
      "lr: [5.953855510552937e-05]\n",
      "Epoch [55/70], Loss: 0.0024\n",
      "lr: [5.65616273502529e-05]\n",
      "Epoch [56/70], Loss: 0.0024\n",
      "lr: [5.373354598274025e-05]\n",
      "Epoch [57/70], Loss: 0.0024\n",
      "lr: [5.104686868360323e-05]\n",
      "Epoch [58/70], Loss: 0.0024\n",
      "lr: [4.849452524942307e-05]\n",
      "Epoch [59/70], Loss: 0.0024\n",
      "lr: [4.606979898695191e-05]\n",
      "Epoch [60/70], Loss: 0.0024\n",
      "lr: [4.376630903760431e-05]\n",
      "Epoch [61/70], Loss: 0.0024\n",
      "lr: [4.157799358572409e-05]\n",
      "Epoch [62/70], Loss: 0.0024\n",
      "lr: [3.9499093906437885e-05]\n",
      "Epoch [63/70], Loss: 0.0024\n",
      "lr: [3.752413921111599e-05]\n",
      "Epoch [64/70], Loss: 0.0024\n",
      "lr: [3.564793225056019e-05]\n",
      "Epoch [65/70], Loss: 0.0024\n",
      "lr: [3.3865535638032174e-05]\n",
      "Epoch [66/70], Loss: 0.0024\n",
      "lr: [3.2172258856130564e-05]\n",
      "Epoch [67/70], Loss: 0.0024\n",
      "lr: [3.056364591332403e-05]\n",
      "Epoch [68/70], Loss: 0.0024\n",
      "lr: [2.903546361765783e-05]\n",
      "Epoch [69/70], Loss: 0.0024\n",
      "lr: [2.758369043677494e-05]\n",
      "Epoch [70/70], Loss: 0.0024\n"
     ]
    }
   ],
   "source": [
    "training_losses = []\n",
    "\n",
    "for epoch in range(num_epochs):\n",
    "    epoch_losses = []\n",
    "    \n",
    "    for data in train_loader:\n",
    "        entrada, salida = data\n",
    "        entrada = entrada.float()\n",
    "        salida = salida.float()\n",
    "\n",
    "        # Forward pass\n",
    "        outputs = autoencoder(entrada) # Se pasa a las imágenes por el autoencoder, en una pasada forward.\n",
    "        loss = criterion(outputs, salida) # Se calcula la diferencia entre el output y las imágenes sin ruido, según la función de pérdida definida.\n",
    "\n",
    "        # Backward pass y optimización\n",
    "        optimizer.zero_grad() # Se restablecen los gradientes acumulados en todos los parámetros del modelo.\n",
    "                              # Esto es necesario antes de realizar el backward pass, ya que PyTorch acumula los gradientes en cada llamada a loss.backward().\n",
    "        loss.backward() # Se realiza el backward pass para calcular los gradientes de los parámetros del autoencoder utilizando la función de pérdida.\n",
    "        optimizer.step() # Finalmente se realiza la optimización de los parámetros del modelo mediante la llamada a optimizer.step(), que actualiza los parámetros en función de los gradientes calculados.\n",
    "\n",
    "        epoch_losses.append(loss.item())\n",
    "        \n",
    "    avg_loss = np.mean(epoch_losses)\n",
    "    training_losses.append(avg_loss)\n",
    "\n",
    "    if scheduler_name is None:\n",
    "        pass\n",
    "    elif scheduler_name.lower() == \"rlrop\":\n",
    "        scheduler.step(avg_loss)\n",
    "        print(f\"lr: {scheduler.get_last_lr()}\")\n",
    "    elif scheduler_name.lower() in [\"slr\", \"elr\"]:\n",
    "        scheduler.step()\n",
    "        print(f\"lr: {scheduler.get_last_lr()}\")\n",
    "    \n",
    "    # Imprimir la pérdida del autoencoder en cada época\n",
    "    print(f\"Epoch [{epoch+1}/{num_epochs}], Loss: {avg_loss:.4f}\")"
   ]
  },
  {
   "cell_type": "code",
   "execution_count": 13,
   "metadata": {},
   "outputs": [],
   "source": [
    "# Guardo los parámetros del modelo entrenado:\n",
    "torch.save(autoencoder.state_dict(), f'data/trained_models/{config_name}.pth')"
   ]
  },
  {
   "cell_type": "code",
   "execution_count": 14,
   "metadata": {},
   "outputs": [
    {
     "data": {
      "text/plain": [
       "\"\\n### Cuando quiera, en otro notebook, levantar el modelo guardado para usarlo para predecir, hay que hacer esto:\\n\\n# 1. Crear una instancia del modelo (debe tener la misma arquitectura)\\nautoencoder_cargado = ConfigurableAutoencoder(config=config)\\n# 2. Carga los parámetros\\nautoencoder_cargado.load_state_dict(torch.load(f'data/trained_models/{config_name}.pth'))\\n# 3. Modo evaluación (cuando lo use para inferencia)\\nautoencoder_cargado.eval()\\n\""
      ]
     },
     "execution_count": 14,
     "metadata": {},
     "output_type": "execute_result"
    }
   ],
   "source": [
    "\"\"\"\n",
    "### Cuando quiera, en otro notebook, levantar el modelo guardado para usarlo para predecir, hay que hacer esto:\n",
    "\n",
    "# 1. Crear una instancia del modelo (debe tener la misma arquitectura)\n",
    "autoencoder_cargado = ConfigurableAutoencoder(config=config)\n",
    "# 2. Carga los parámetros\n",
    "autoencoder_cargado.load_state_dict(torch.load(f'data/trained_models/{config_name}.pth'))\n",
    "# 3. Modo evaluación (cuando lo use para inferencia)\n",
    "autoencoder_cargado.eval()\n",
    "\"\"\""
   ]
  },
  {
   "cell_type": "code",
   "execution_count": 15,
   "metadata": {},
   "outputs": [],
   "source": [
    "df_errors = pd.DataFrame({\n",
    "    'epoch': range(1, num_epochs + 1),\n",
    "    'loss': training_losses\n",
    "})\n",
    "\n",
    "df_errors.to_csv(f'data/train_errors/{config_name}.csv', index=False)"
   ]
  },
  {
   "cell_type": "code",
   "execution_count": 16,
   "metadata": {},
   "outputs": [
    {
     "data": {
      "image/png": "[encoded data removed]",
      "text/plain": [
       "<Figure size 500x300 with 1 Axes>"
      ]
     },
     "metadata": {},
     "output_type": "display_data"
    }
   ],
   "source": [
    "plt.figure(figsize=(5, 3))\n",
    "plt.plot(range(1, num_epochs + 1), training_losses, '.-')\n",
    "plt.title('Error de entrenamiento por épocas')\n",
    "plt.xlabel('Época')\n",
    "plt.ylabel('Error')\n",
    "plt.grid()"
   ]
  },
  {
   "cell_type": "markdown",
   "metadata": {},
   "source": [
    "---\n",
    "# Evaluación"
   ]
  },
  {
   "cell_type": "code",
   "execution_count": 17,
   "metadata": {},
   "outputs": [],
   "source": [
    "autoencoder.eval() # Para desactivar Dropout, BatchNorm, etc.\n",
    "n = config['testing']['n']\n",
    "batch_size = config['testing']['batch_size']"
   ]
  },
  {
   "cell_type": "code",
   "execution_count": 18,
   "metadata": {},
   "outputs": [],
   "source": [
    "test_g, test_gi, test_gI0 = mixed_dataset(\n",
    "    n_total = n,\n",
    "    generate_multiple_images = generate_multiple_images,\n",
    "    conjunto_n_cuad_lado = n_cuad_lado,\n",
    "    conjunto_pixeles_cuad = pixeles_cuad,\n",
    "    ratios = config.training.get('ratio',[1]),\n",
    ")"
   ]
  },
  {
   "cell_type": "code",
   "execution_count": 19,
   "metadata": {},
   "outputs": [],
   "source": [
    "dataset_test = InMemoryImageDataset(test_gI0, test_gi, transform=transform)\n",
    "test_loader = DataLoader(dataset_test, batch_size=batch_size, shuffle=True)"
   ]
  },
  {
   "cell_type": "code",
   "execution_count": 20,
   "metadata": {},
   "outputs": [
    {
     "name": "stdout",
     "output_type": "stream",
     "text": [
      "Average Test Loss: 0.0026\n"
     ]
    }
   ],
   "source": [
    "total_loss = 0\n",
    "with torch.no_grad(): # Esto es para asegurarse de que no se realicen cálculos de gradientes durante la evaluación del autoencoder.\n",
    "                      # Al entrar en este bloque, se desactiva el cálculo y almacenamiento automático de gradientes para reducir el uso de memoria y acelerar la evaluación.\n",
    "    for data in test_loader:\n",
    "        entrada, salida = data\n",
    "        entrada = entrada.float()\n",
    "        salida = salida.float()\n",
    "\n",
    "        # Forward pass\n",
    "        outputs = autoencoder(entrada) # Se realiza el forward pass del autoencoder con las imágenes de prueba.\n",
    "                                       # El autoencoder genera las imágenes reconstruidas utilizando el método forward() que definimos previamente en la clase Autoencoder.\n",
    "        loss = criterion(outputs, salida) # Se calcula la pérdida entre las imágenes reconstruidas y las imágenes originales utilizando la función de pérdida (criterion).\n",
    "                                          # Esto proporciona una medida de cuánto difieren las imágenes reconstruidas de las originales.\n",
    "        total_loss += loss.item() # La pérdida obtenida en cada iteración se suma a la variable total_loss utilizando loss.item(), que devuelve el valor escalar de la pérdida.\n",
    "                                  # Al final de la iteración, total_loss contendrá la suma acumulada de las pérdidas de todas las muestras del conjunto de datos de prueba.\n",
    "\n",
    "average_loss = total_loss / len(test_loader) # Se calcula la pérdida promedio dividiendo la suma acumulada de las pérdidas (total_loss) entre el número de lotes en el conjunto de datos de prueba (len(test_loader)).\n",
    "                                             # Esto proporciona una medida promedio de la discrepancia entre las imágenes originales y las imágenes reconstruidas por el autoencoder en el conjunto de datos de prueba.\n",
    "print(f\"Average Test Loss: {average_loss:.4f}\")"
   ]
  },
  {
   "cell_type": "code",
   "execution_count": 21,
   "metadata": {},
   "outputs": [],
   "source": [
    "test_file_path = f'data/test_errors.csv'\n",
    "\n",
    "new_result = pd.DataFrame({\n",
    "    'config_name': [config_name],\n",
    "    'loss_testing': [average_loss]\n",
    "})\n",
    "\n",
    "try:\n",
    "    existing_results = pd.read_csv(test_file_path)\n",
    "    existing_results = existing_results[existing_results['config_name'] != config_name]\n",
    "    all_results = pd.concat([existing_results, new_result], ignore_index=True)\n",
    "except FileNotFoundError:\n",
    "    all_results = new_result\n",
    "\n",
    "all_results.to_csv(test_file_path, index=False)"
   ]
  },
  {
   "cell_type": "code",
   "execution_count": 22,
   "metadata": {},
   "outputs": [
    {
     "data": {
      "image/png": "[encoded data removed]",
      "text/plain": [
       "<Figure size 1500x500 with 3 Axes>"
      ]
     },
     "metadata": {},
     "output_type": "display_data"
    }
   ],
   "source": [
    "# Aplico el autoencoder a un ejemplo particular del dataset de testeo y veo cómo queda la\n",
    "# imagen de salida.\n",
    "\n",
    "ecualizar_hist = True  # Si se quiere o no ecualizar el histograma de la imagen\n",
    "\n",
    "###\n",
    "\n",
    "def graph_random_image(ecualizar_hist, name_suffix, show_plot=True):\n",
    "\n",
    "    index = int(n*np.random.random()) # Índice del ejemplo puntual que se desea seleccionar\n",
    "    entrada_red, salida_red = dataset_test[index]\n",
    "\n",
    "    example = entrada_red.float().unsqueeze(0)\n",
    "\n",
    "    reconstructed = autoencoder(example) # Aplica el autoencoder al ejemplo\n",
    "\n",
    "    tamanio = ncl*pc\n",
    "\n",
    "    entrada = entrada_red.view(tamanio, tamanio)\n",
    "    salida_esperada = salida_red.view(tamanio, tamanio)\n",
    "    reconstructed = reconstructed.view(tamanio, tamanio)\n",
    "\n",
    "    imagenes = [entrada, salida_esperada, reconstructed.detach()]\n",
    "    titulos = ['Entrada', 'Salida esperada', 'Salida de la red']\n",
    "\n",
    "    fig, axes = plt.subplots(1, 3, figsize=(15, 5))\n",
    "    for ax, imagen, titulo in zip(axes, imagenes, titulos):\n",
    "        if ecualizar_hist:\n",
    "            im = imagen.cpu().numpy()\n",
    "            im = ((im - im.min()) * 255) / (im.max() - im.min())\n",
    "            imagen = cv2.equalizeHist(im.astype(np.uint8))\n",
    "            titulo += '\\n(ecualizada)'\n",
    "        \n",
    "        ax.imshow(imagen, cmap='gray')\n",
    "        ax.set_title(titulo)\n",
    "\n",
    "    plt.tight_layout()\n",
    "    plt.savefig(f'data/images/{config_name}_{name_suffix}.png', dpi=300, bbox_inches='tight')\n",
    "\n",
    "    if not show_plot:\n",
    "        plt.close(fig)\n",
    "\n",
    "    return imagenes, titulos\n",
    "\n",
    "imagenes, titulos = graph_random_image(ecualizar_hist=ecualizar_hist, name_suffix=1, show_plot=True)"
   ]
  },
  {
   "cell_type": "code",
   "execution_count": 23,
   "metadata": {},
   "outputs": [
    {
     "data": {
      "image/png": "[encoded data removed]",
      "text/plain": [
       "<Figure size 1500x500 with 3 Axes>"
      ]
     },
     "metadata": {},
     "output_type": "display_data"
    }
   ],
   "source": [
    "# Hago lo mismo que arriba, para la misma imagen, pero sin ecualizar\n",
    "\n",
    "ecualizar_hist = False  # Si se quiere o no ecualizar el histograma de la imagen\n",
    "\n",
    "###\n",
    "\n",
    "fig, axes = plt.subplots(1, 3, figsize=(15, 5))\n",
    "for ax, imagen, titulo in zip(axes, imagenes, titulos):\n",
    "    if ecualizar_hist:\n",
    "        im = imagen.cpu().numpy()\n",
    "        im = ((im - im.min()) * 255) / (im.max() - im.min())\n",
    "        imagen = cv2.equalizeHist(im.astype(np.uint8))\n",
    "        titulo += '\\n(ecualizada)'\n",
    "    \n",
    "    ax.imshow(imagen, cmap='gray')\n",
    "    ax.set_title(titulo)\n",
    "\n",
    "plt.tight_layout()"
   ]
  },
  {
   "cell_type": "code",
   "execution_count": 24,
   "metadata": {},
   "outputs": [],
   "source": [
    "# Guardo otra imagen solo para tener a modo de ejemplo\n",
    "imagenes, titulos = graph_random_image(ecualizar_hist=True, name_suffix=2, show_plot=False)"
   ]
  }
 ],
 "metadata": {
  "kernelspec": {
   "display_name": "despeckling",
   "language": "python",
   "name": "python3"
  },
  "language_info": {
   "codemirror_mode": {
    "name": "ipython",
    "version": 3
   },
   "file_extension": ".py",
   "mimetype": "text/x-python",
   "name": "python",
   "nbconvert_exporter": "python",
   "pygments_lexer": "ipython3",
   "version": "3.9.22"
  }
 },
 "nbformat": 4,
 "nbformat_minor": 2
}
