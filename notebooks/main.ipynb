{
 "cells": [
  {
   "cell_type": "code",
   "execution_count": 1,
   "metadata": {},
   "outputs": [],
   "source": [
    "import sys\n",
    "sys.path.append('..')\n",
    "\n",
    "from scripts.GenrationGI0 import partitioned_gi0_image\n",
    "from scripts.autoencoders import InMemoryImageDataset, generate_multiple_images, ConfigurableAutoencoder\n",
    "\n",
    "import pandas as pd\n",
    "import torch\n",
    "from torchvision import transforms\n",
    "from torch.utils.data import DataLoader\n",
    "import torch.nn as nn\n",
    "import torch.optim as optim\n",
    "from torchsummary import summary\n",
    "import numpy as np\n",
    "import matplotlib.pyplot as plt\n",
    "import cv2\n",
    "from omegaconf import OmegaConf\n",
    "OmegaConf.register_new_resolver(\"eval\", eval)"
   ]
  },
  {
   "cell_type": "markdown",
   "metadata": {},
   "source": [
    "Elegir el archivo de configuración correspondiente:"
   ]
  },
  {
   "cell_type": "code",
   "execution_count": 2,
   "metadata": {},
   "outputs": [
    {
     "data": {
      "text/plain": [
       "{'training': {'n': 100000, 'n_cuad_lado': 2, 'pixeles_cuad': 25, 'num_epochs': 100, 'batch_size': 64, 'learning_rate': 0.001, 'scheduler_name': 'rlrop', 'scheduler_params': {'factor': 0.8}}, 'model': {'encoding_dim': 64, 'loss_function': 'mse', 'optimizer': 'adam'}, 'encoder': {'layers': [{'type': 'conv2d', 'filters': 32, 'kernel_size': 3, 'stride': 2, 'padding': 3, 'activation': 'relu'}, {'type': 'conv2d', 'filters': 64, 'kernel_size': 3, 'stride': 2, 'padding': 1, 'activation': 'relu'}, {'type': 'flatten'}, {'type': 'dense', 'dim': '${model.encoding_dim}', 'activation': 'relu'}]}, 'decoder': {'layers': [{'type': 'dense', 'dim': 12544, 'activation': 'relu'}, {'type': 'unflatten', 'dim1': 14, 'dim2': 14, 'out_channels': 64}, {'type': 'conv2d_transpose', 'filters': 32, 'kernel_size': 3, 'stride': 2, 'padding': 1, 'activation': 'relu'}, {'type': 'conv2d_transpose', 'filters': 1, 'kernel_size': 2, 'stride': 2, 'padding': 2, 'activation': 'sigmoid'}]}, 'testing': {'n': 10000, 'batch_size': 32}}"
      ]
     },
     "execution_count": 2,
     "metadata": {},
     "output_type": "execute_result"
    }
   ],
   "source": [
    "config_name = 'config_3' # Elegir\n",
    "\n",
    "config_path = f'configs/{config_name}.yaml'\n",
    "config = OmegaConf.load(config_path)\n",
    "config"
   ]
  },
  {
   "cell_type": "markdown",
   "metadata": {},
   "source": [
    "---\n",
    "# Creación del dataset para entrenar"
   ]
  },
  {
   "cell_type": "code",
   "execution_count": 3,
   "metadata": {},
   "outputs": [],
   "source": [
    "n = config['training']['n']\n",
    "n_cuad_lado = config['training']['n_cuad_lado']\n",
    "pixeles_cuad = config['training']['pixeles_cuad']\n",
    "batch_size = config['training']['batch_size']"
   ]
  },
  {
   "cell_type": "code",
   "execution_count": 4,
   "metadata": {},
   "outputs": [],
   "source": [
    "train_g, train_gi, train_gI0 = generate_multiple_images(n, partitioned_gi0_image, n_cuad_lado, pixeles_cuad)"
   ]
  },
  {
   "cell_type": "code",
   "execution_count": 5,
   "metadata": {},
   "outputs": [],
   "source": [
    "normalize_to_01 = transforms.Lambda(lambda x: (x - x.min()) / (x.max() - x.min()))\n",
    "\n",
    "transform = transforms.Compose([\n",
    "    transforms.ToTensor(),\n",
    "    normalize_to_01\n",
    "])\n",
    "\n",
    "dataset_train = InMemoryImageDataset(train_gI0, train_gi, transform=transform)\n",
    "train_loader = DataLoader(dataset_train, batch_size=batch_size, shuffle=True)"
   ]
  },
  {
   "cell_type": "markdown",
   "metadata": {},
   "source": [
    "---\n",
    "# Entrenamiento"
   ]
  },
  {
   "cell_type": "code",
   "execution_count": 6,
   "metadata": {},
   "outputs": [],
   "source": [
    "num_epochs = config['training']['num_epochs']\n",
    "learning_rate = config['training']['learning_rate']\n",
    "scheduler_name = config['training']['scheduler_name']"
   ]
  },
  {
   "cell_type": "code",
   "execution_count": 7,
   "metadata": {},
   "outputs": [
    {
     "data": {
      "text/plain": [
       "ConfigurableAutoencoder(\n",
       "  (encoder): Sequential(\n",
       "    (0): Conv2d(1, 32, kernel_size=(3, 3), stride=(2, 2), padding=(3, 3))\n",
       "    (1): ReLU()\n",
       "    (2): Conv2d(32, 64, kernel_size=(3, 3), stride=(2, 2), padding=(1, 1))\n",
       "    (3): ReLU()\n",
       "    (4): Flatten(start_dim=1, end_dim=-1)\n",
       "    (5): Linear(in_features=12544, out_features=64, bias=True)\n",
       "    (6): ReLU()\n",
       "  )\n",
       "  (decoder): Sequential(\n",
       "    (0): Linear(in_features=64, out_features=12544, bias=True)\n",
       "    (1): ReLU()\n",
       "    (2): Unflatten(dim=1, unflattened_size=(64, 14, 14))\n",
       "    (3): ConvTranspose2d(64, 32, kernel_size=(3, 3), stride=(2, 2), padding=(1, 1))\n",
       "    (4): ReLU()\n",
       "    (5): ConvTranspose2d(32, 1, kernel_size=(2, 2), stride=(2, 2), padding=(2, 2))\n",
       "    (6): Sigmoid()\n",
       "  )\n",
       ")"
      ]
     },
     "execution_count": 7,
     "metadata": {},
     "output_type": "execute_result"
    }
   ],
   "source": [
    "autoencoder = ConfigurableAutoencoder(config=config)\n",
    "autoencoder"
   ]
  },
  {
   "cell_type": "code",
   "execution_count": 8,
   "metadata": {},
   "outputs": [
    {
     "name": "stdout",
     "output_type": "stream",
     "text": [
      "----------------------------------------------------------------\n",
      "        Layer (type)               Output Shape         Param #\n",
      "================================================================\n",
      "            Conv2d-1           [-1, 32, 27, 27]             320\n",
      "              ReLU-2           [-1, 32, 27, 27]               0\n",
      "            Conv2d-3           [-1, 64, 14, 14]          18,496\n",
      "              ReLU-4           [-1, 64, 14, 14]               0\n",
      "           Flatten-5                [-1, 12544]               0\n",
      "            Linear-6                   [-1, 64]         802,880\n",
      "              ReLU-7                   [-1, 64]               0\n",
      "            Linear-8                [-1, 12544]         815,360\n",
      "              ReLU-9                [-1, 12544]               0\n",
      "        Unflatten-10           [-1, 64, 14, 14]               0\n",
      "  ConvTranspose2d-11           [-1, 32, 27, 27]          18,464\n",
      "             ReLU-12           [-1, 32, 27, 27]               0\n",
      "  ConvTranspose2d-13            [-1, 1, 50, 50]             129\n",
      "          Sigmoid-14            [-1, 1, 50, 50]               0\n",
      "================================================================\n",
      "Total params: 1,655,649\n",
      "Trainable params: 1,655,649\n",
      "Non-trainable params: 0\n",
      "----------------------------------------------------------------\n",
      "Input size (MB): 0.01\n",
      "Forward/backward pass size (MB): 1.33\n",
      "Params size (MB): 6.32\n",
      "Estimated Total Size (MB): 7.65\n",
      "----------------------------------------------------------------\n"
     ]
    }
   ],
   "source": [
    "summary(\n",
    "    autoencoder,\n",
    "    (1, n_cuad_lado*pixeles_cuad, n_cuad_lado*pixeles_cuad) # (nro_de_canales, alto, ancho) de las imágenes de entrada\n",
    ")\n",
    "# El -1 que se ve en la primera posición de todos los output shapes es un placeholder para el tamaño del batch"
   ]
  },
  {
   "cell_type": "code",
   "execution_count": 9,
   "metadata": {},
   "outputs": [],
   "source": [
    "loss = config['model']['loss_function'].lower()\n",
    "opt = config['model']['optimizer'].lower()\n",
    "\n",
    "if loss == 'mse':\n",
    "    criterion = nn.MSELoss()\n",
    "elif loss == 'bce':\n",
    "    criterion = nn.BCELoss()\n",
    "\n",
    "if opt == 'adam':\n",
    "    optimizer = optim.Adam(\n",
    "        autoencoder.parameters(), \n",
    "        lr=learning_rate\n",
    "    )\n",
    "elif optim == 'sgd':\n",
    "    optimizer = optim.SGD(\n",
    "        autoencoder.parameters(), \n",
    "        lr=learning_rate,\n",
    "        momentum=0.9\n",
    "    )"
   ]
  },
  {
   "cell_type": "code",
   "execution_count": 10,
   "metadata": {},
   "outputs": [],
   "source": [
    "if scheduler_name is None:\n",
    "    pass\n",
    "\n",
    "elif scheduler_name.lower() == \"rlrop\":\n",
    "    # ReduceLROnPlateau - reduce el lr cuando el loss deja de mejorar\n",
    "    scheduler = torch.optim.lr_scheduler.ReduceLROnPlateau(\n",
    "        optimizer,\n",
    "        mode=config.training.scheduler_params.get('mode','min'),\n",
    "        factor=config.training.scheduler_params.get('factor',0.1),   # Reduce el lr por este factor\n",
    "        patience=config.training.scheduler_params.get('patience',5)  # Espera estas épocas antes de reducir\n",
    "    )\n",
    "\n",
    "elif scheduler_name.lower() == \"slr\":\n",
    "    # StepLR - reduce el lr cada cierto número de épocas\n",
    "    scheduler = torch.optim.lr_scheduler.StepLR(\n",
    "        optimizer,\n",
    "        step_size=config.training.scheduler_params.get('step_size',7),  # Cada step_size épocas\n",
    "        gamma=config.training.scheduler_params.get('gamma',0.1)         # Reduce por este factor\n",
    "    )\n",
    "\n",
    "elif scheduler_name.lower() == \"elr\":\n",
    "    # ExponentialLR - reduce el lr exponencialmente\n",
    "    scheduler = torch.optim.lr_scheduler.ExponentialLR(\n",
    "        optimizer,\n",
    "        gamma=config.training.scheduler_params.get('gamma',0.95)  # Factor de reducción por época\n",
    "    )"
   ]
  },
  {
   "cell_type": "code",
   "execution_count": 11,
   "metadata": {},
   "outputs": [
    {
     "name": "stdout",
     "output_type": "stream",
     "text": [
      "lr: [0.001]\n",
      "Epoch [1/100], Loss: 0.0042\n",
      "lr: [0.001]\n",
      "Epoch [2/100], Loss: 0.0025\n",
      "lr: [0.001]\n",
      "Epoch [3/100], Loss: 0.0025\n",
      "lr: [0.001]\n",
      "Epoch [4/100], Loss: 0.0025\n",
      "lr: [0.001]\n",
      "Epoch [5/100], Loss: 0.0025\n",
      "lr: [0.001]\n",
      "Epoch [6/100], Loss: 0.0025\n",
      "lr: [0.001]\n",
      "Epoch [7/100], Loss: 0.0024\n",
      "lr: [0.001]\n",
      "Epoch [8/100], Loss: 0.0024\n",
      "lr: [0.001]\n",
      "Epoch [9/100], Loss: 0.0024\n",
      "lr: [0.001]\n",
      "Epoch [10/100], Loss: 0.0024\n",
      "lr: [0.001]\n",
      "Epoch [11/100], Loss: 0.0024\n",
      "lr: [0.001]\n",
      "Epoch [12/100], Loss: 0.0024\n",
      "lr: [0.001]\n",
      "Epoch [13/100], Loss: 0.0023\n",
      "lr: [0.001]\n",
      "Epoch [14/100], Loss: 0.0023\n",
      "lr: [0.001]\n",
      "Epoch [15/100], Loss: 0.0023\n",
      "lr: [0.001]\n",
      "Epoch [16/100], Loss: 0.0023\n",
      "lr: [0.001]\n",
      "Epoch [17/100], Loss: 0.0023\n",
      "lr: [0.001]\n",
      "Epoch [18/100], Loss: 0.0023\n",
      "lr: [0.001]\n",
      "Epoch [19/100], Loss: 0.0023\n",
      "lr: [0.001]\n",
      "Epoch [20/100], Loss: 0.0023\n",
      "lr: [0.001]\n",
      "Epoch [21/100], Loss: 0.0023\n",
      "lr: [0.001]\n",
      "Epoch [22/100], Loss: 0.0022\n",
      "lr: [0.001]\n",
      "Epoch [23/100], Loss: 0.0022\n",
      "lr: [0.001]\n",
      "Epoch [24/100], Loss: 0.0022\n",
      "lr: [0.001]\n",
      "Epoch [25/100], Loss: 0.0022\n",
      "lr: [0.001]\n",
      "Epoch [26/100], Loss: 0.0022\n",
      "lr: [0.001]\n",
      "Epoch [27/100], Loss: 0.0022\n",
      "lr: [0.001]\n",
      "Epoch [28/100], Loss: 0.0022\n",
      "lr: [0.001]\n",
      "Epoch [29/100], Loss: 0.0022\n",
      "lr: [0.001]\n",
      "Epoch [30/100], Loss: 0.0022\n",
      "lr: [0.001]\n",
      "Epoch [31/100], Loss: 0.0022\n",
      "lr: [0.001]\n",
      "Epoch [32/100], Loss: 0.0022\n",
      "lr: [0.001]\n",
      "Epoch [33/100], Loss: 0.0022\n",
      "lr: [0.001]\n",
      "Epoch [34/100], Loss: 0.0022\n",
      "lr: [0.001]\n",
      "Epoch [35/100], Loss: 0.0022\n",
      "lr: [0.001]\n",
      "Epoch [36/100], Loss: 0.0022\n",
      "lr: [0.001]\n",
      "Epoch [37/100], Loss: 0.0022\n",
      "lr: [0.001]\n",
      "Epoch [38/100], Loss: 0.0022\n",
      "lr: [0.001]\n",
      "Epoch [39/100], Loss: 0.0022\n",
      "lr: [0.001]\n",
      "Epoch [40/100], Loss: 0.0022\n",
      "lr: [0.001]\n",
      "Epoch [41/100], Loss: 0.0022\n",
      "lr: [0.001]\n",
      "Epoch [42/100], Loss: 0.0022\n",
      "lr: [0.001]\n",
      "Epoch [43/100], Loss: 0.0022\n",
      "lr: [0.001]\n",
      "Epoch [44/100], Loss: 0.0022\n",
      "lr: [0.001]\n",
      "Epoch [45/100], Loss: 0.0022\n",
      "lr: [0.001]\n",
      "Epoch [46/100], Loss: 0.0022\n",
      "lr: [0.001]\n",
      "Epoch [47/100], Loss: 0.0022\n",
      "lr: [0.001]\n",
      "Epoch [48/100], Loss: 0.0022\n",
      "lr: [0.001]\n",
      "Epoch [49/100], Loss: 0.0022\n",
      "lr: [0.001]\n",
      "Epoch [50/100], Loss: 0.0022\n",
      "lr: [0.001]\n",
      "Epoch [51/100], Loss: 0.0022\n",
      "lr: [0.001]\n",
      "Epoch [52/100], Loss: 0.0022\n",
      "lr: [0.001]\n",
      "Epoch [53/100], Loss: 0.0022\n",
      "lr: [0.001]\n",
      "Epoch [54/100], Loss: 0.0022\n",
      "lr: [0.001]\n",
      "Epoch [55/100], Loss: 0.0022\n",
      "lr: [0.001]\n",
      "Epoch [56/100], Loss: 0.0022\n",
      "lr: [0.001]\n",
      "Epoch [57/100], Loss: 0.0022\n",
      "lr: [0.001]\n",
      "Epoch [58/100], Loss: 0.0022\n",
      "lr: [0.001]\n",
      "Epoch [59/100], Loss: 0.0022\n",
      "lr: [0.001]\n",
      "Epoch [60/100], Loss: 0.0022\n",
      "lr: [0.001]\n",
      "Epoch [61/100], Loss: 0.0022\n",
      "lr: [0.001]\n",
      "Epoch [62/100], Loss: 0.0022\n",
      "lr: [0.001]\n",
      "Epoch [63/100], Loss: 0.0022\n",
      "lr: [0.001]\n",
      "Epoch [64/100], Loss: 0.0022\n",
      "lr: [0.001]\n",
      "Epoch [65/100], Loss: 0.0022\n",
      "lr: [0.001]\n",
      "Epoch [66/100], Loss: 0.0022\n",
      "lr: [0.001]\n",
      "Epoch [67/100], Loss: 0.0022\n",
      "lr: [0.001]\n",
      "Epoch [68/100], Loss: 0.0022\n",
      "lr: [0.001]\n",
      "Epoch [69/100], Loss: 0.0022\n",
      "lr: [0.001]\n",
      "Epoch [70/100], Loss: 0.0022\n",
      "lr: [0.001]\n",
      "Epoch [71/100], Loss: 0.0022\n",
      "lr: [0.001]\n",
      "Epoch [72/100], Loss: 0.0022\n",
      "lr: [0.001]\n",
      "Epoch [73/100], Loss: 0.0022\n",
      "lr: [0.001]\n",
      "Epoch [74/100], Loss: 0.0022\n",
      "lr: [0.001]\n",
      "Epoch [75/100], Loss: 0.0022\n",
      "lr: [0.001]\n",
      "Epoch [76/100], Loss: 0.0022\n",
      "lr: [0.001]\n",
      "Epoch [77/100], Loss: 0.0022\n",
      "lr: [0.001]\n",
      "Epoch [78/100], Loss: 0.0022\n",
      "lr: [0.001]\n",
      "Epoch [79/100], Loss: 0.0021\n",
      "lr: [0.001]\n",
      "Epoch [80/100], Loss: 0.0021\n",
      "lr: [0.001]\n",
      "Epoch [81/100], Loss: 0.0021\n",
      "lr: [0.001]\n",
      "Epoch [82/100], Loss: 0.0021\n",
      "lr: [0.001]\n",
      "Epoch [83/100], Loss: 0.0021\n",
      "lr: [0.001]\n",
      "Epoch [84/100], Loss: 0.0021\n",
      "lr: [0.001]\n",
      "Epoch [85/100], Loss: 0.0021\n",
      "lr: [0.001]\n",
      "Epoch [86/100], Loss: 0.0021\n",
      "lr: [0.001]\n",
      "Epoch [87/100], Loss: 0.0021\n",
      "lr: [0.001]\n",
      "Epoch [88/100], Loss: 0.0021\n",
      "lr: [0.001]\n",
      "Epoch [89/100], Loss: 0.0021\n",
      "lr: [0.001]\n",
      "Epoch [90/100], Loss: 0.0021\n",
      "lr: [0.001]\n",
      "Epoch [91/100], Loss: 0.0021\n",
      "lr: [0.001]\n",
      "Epoch [92/100], Loss: 0.0021\n",
      "lr: [0.001]\n",
      "Epoch [93/100], Loss: 0.0021\n",
      "lr: [0.001]\n",
      "Epoch [94/100], Loss: 0.0021\n",
      "lr: [0.001]\n",
      "Epoch [95/100], Loss: 0.0021\n",
      "lr: [0.001]\n",
      "Epoch [96/100], Loss: 0.0021\n",
      "lr: [0.001]\n",
      "Epoch [97/100], Loss: 0.0021\n",
      "lr: [0.001]\n",
      "Epoch [98/100], Loss: 0.0021\n",
      "lr: [0.001]\n",
      "Epoch [99/100], Loss: 0.0021\n",
      "lr: [0.001]\n",
      "Epoch [100/100], Loss: 0.0021\n"
     ]
    }
   ],
   "source": [
    "training_losses = []\n",
    "\n",
    "for epoch in range(num_epochs):\n",
    "    epoch_losses = []\n",
    "    \n",
    "    for data in train_loader:\n",
    "        entrada, salida = data\n",
    "        entrada = entrada.float()\n",
    "        salida = salida.float()\n",
    "\n",
    "        # Forward pass\n",
    "        outputs = autoencoder(entrada) # Se pasa a las imágenes por el autoencoder, en una pasada forward.\n",
    "        loss = criterion(outputs, salida) # Se calcula la diferencia entre el output y las imágenes sin ruido, según la función de pérdida definida.\n",
    "\n",
    "        # Backward pass y optimización\n",
    "        optimizer.zero_grad() # Se restablecen los gradientes acumulados en todos los parámetros del modelo.\n",
    "                              # Esto es necesario antes de realizar el backward pass, ya que PyTorch acumula los gradientes en cada llamada a loss.backward().\n",
    "        loss.backward() # Se realiza el backward pass para calcular los gradientes de los parámetros del autoencoder utilizando la función de pérdida.\n",
    "        optimizer.step() # Finalmente se realiza la optimización de los parámetros del modelo mediante la llamada a optimizer.step(), que actualiza los parámetros en función de los gradientes calculados.\n",
    "\n",
    "        epoch_losses.append(loss.item())\n",
    "        \n",
    "    avg_loss = np.mean(epoch_losses)\n",
    "    training_losses.append(avg_loss)\n",
    "\n",
    "    if scheduler_name is None:\n",
    "        pass\n",
    "    elif scheduler_name.lower() == \"rlrop\":\n",
    "        scheduler.step(avg_loss)\n",
    "        print(f\"lr: {scheduler.get_last_lr()}\")\n",
    "    elif scheduler_name.lower() in [\"slr\", \"elr\"]:\n",
    "        scheduler.step()\n",
    "        print(f\"lr: {scheduler.get_last_lr()}\")\n",
    "    \n",
    "    # Imprimir la pérdida del autoencoder en cada época\n",
    "    print(f\"Epoch [{epoch+1}/{num_epochs}], Loss: {avg_loss:.4f}\")"
   ]
  },
  {
   "cell_type": "code",
   "execution_count": 12,
   "metadata": {},
   "outputs": [],
   "source": [
    "df_errors = pd.DataFrame({\n",
    "    'epoch': range(1, num_epochs + 1),\n",
    "    'loss': training_losses\n",
    "})\n",
    "\n",
    "df_errors.to_csv(f'data/train_errors/{config_name}.csv', index=False)"
   ]
  },
  {
   "cell_type": "code",
   "execution_count": 13,
   "metadata": {},
   "outputs": [
    {
     "data": {
      "image/png": "[encoded data removed]",
      "text/plain": [
       "<Figure size 500x300 with 1 Axes>"
      ]
     },
     "metadata": {},
     "output_type": "display_data"
    }
   ],
   "source": [
    "plt.figure(figsize=(5, 3))\n",
    "plt.plot(range(1, num_epochs + 1), training_losses, '.-')\n",
    "plt.title('Error de entrenamiento por épocas')\n",
    "plt.xlabel('Época')\n",
    "plt.ylabel('Error')\n",
    "plt.grid()"
   ]
  },
  {
   "cell_type": "markdown",
   "metadata": {},
   "source": [
    "---\n",
    "# Evaluación"
   ]
  },
  {
   "cell_type": "code",
   "execution_count": 14,
   "metadata": {},
   "outputs": [],
   "source": [
    "n = config['testing']['n']\n",
    "batch_size = config['testing']['batch_size']"
   ]
  },
  {
   "cell_type": "code",
   "execution_count": 15,
   "metadata": {},
   "outputs": [],
   "source": [
    "test_g, test_gi, test_gI0 = generate_multiple_images(n, partitioned_gi0_image, n_cuad_lado, pixeles_cuad)"
   ]
  },
  {
   "cell_type": "code",
   "execution_count": 16,
   "metadata": {},
   "outputs": [],
   "source": [
    "dataset_test = InMemoryImageDataset(test_gI0, test_gi, transform=transform)\n",
    "test_loader = DataLoader(dataset_test, batch_size=batch_size, shuffle=True)"
   ]
  },
  {
   "cell_type": "code",
   "execution_count": 17,
   "metadata": {},
   "outputs": [
    {
     "name": "stdout",
     "output_type": "stream",
     "text": [
      "Average Test Loss: 0.0026\n"
     ]
    }
   ],
   "source": [
    "total_loss = 0\n",
    "with torch.no_grad(): # Esto es para asegurarse de que no se realicen cálculos de gradientes durante la evaluación del autoencoder.\n",
    "                      # Al entrar en este bloque, se desactiva el cálculo y almacenamiento automático de gradientes para reducir el uso de memoria y acelerar la evaluación.\n",
    "    for data in test_loader:\n",
    "        entrada, salida = data\n",
    "        entrada = entrada.float()\n",
    "        salida = salida.float()\n",
    "\n",
    "        # Forward pass\n",
    "        outputs = autoencoder(entrada) # Se realiza el forward pass del autoencoder con las imágenes de prueba.\n",
    "                                       # El autoencoder genera las imágenes reconstruidas utilizando el método forward() que definimos previamente en la clase Autoencoder.\n",
    "        loss = criterion(outputs, salida) # Se calcula la pérdida entre las imágenes reconstruidas y las imágenes originales utilizando la función de pérdida (criterion).\n",
    "                                          # Esto proporciona una medida de cuánto difieren las imágenes reconstruidas de las originales.\n",
    "        total_loss += loss.item() # La pérdida obtenida en cada iteración se suma a la variable total_loss utilizando loss.item(), que devuelve el valor escalar de la pérdida.\n",
    "                                  # Al final de la iteración, total_loss contendrá la suma acumulada de las pérdidas de todas las muestras del conjunto de datos de prueba.\n",
    "\n",
    "average_loss = total_loss / len(test_loader) # Se calcula la pérdida promedio dividiendo la suma acumulada de las pérdidas (total_loss) entre el número de lotes en el conjunto de datos de prueba (len(test_loader)).\n",
    "                                             # Esto proporciona una medida promedio de la discrepancia entre las imágenes originales y las imágenes reconstruidas por el autoencoder en el conjunto de datos de prueba.\n",
    "print(f\"Average Test Loss: {average_loss:.4f}\")"
   ]
  },
  {
   "cell_type": "code",
   "execution_count": 18,
   "metadata": {},
   "outputs": [],
   "source": [
    "test_file_path = f'data/test_errors.csv'\n",
    "\n",
    "new_result = pd.DataFrame({\n",
    "    'config_name': [config_name],\n",
    "    'loss_testing': [average_loss]\n",
    "})\n",
    "\n",
    "try:\n",
    "    existing_results = pd.read_csv(test_file_path)\n",
    "    existing_results = existing_results[existing_results['config_name'] != config_name]\n",
    "    all_results = pd.concat([existing_results, new_result], ignore_index=True)\n",
    "except FileNotFoundError:\n",
    "    all_results = new_result\n",
    "\n",
    "all_results.to_csv(test_file_path, index=False)"
   ]
  },
  {
   "cell_type": "code",
   "execution_count": 19,
   "metadata": {},
   "outputs": [
    {
     "data": {
      "image/png": "[encoded data removed]",
      "text/plain": [
       "<Figure size 1500x500 with 3 Axes>"
      ]
     },
     "metadata": {},
     "output_type": "display_data"
    }
   ],
   "source": [
    "# Aplico el autoencoder a un ejemplo particular del dataset de testeo y veo cómo queda la\n",
    "# imagen de salida.\n",
    "\n",
    "ecualizar_hist = True  # Si se quiere o no ecualizar el histograma de la imagen\n",
    "\n",
    "###\n",
    "\n",
    "def graph_random_image(ecualizar_hist, name_suffix, show_plot=True):\n",
    "\n",
    "    index = int(n*np.random.random()) # Índice del ejemplo puntual que se desea seleccionar\n",
    "    entrada_red, salida_red = dataset_test[index]\n",
    "\n",
    "    example = entrada_red.float().unsqueeze(0)\n",
    "\n",
    "    reconstructed = autoencoder(example) # Aplica el autoencoder al ejemplo\n",
    "\n",
    "    tamanio = n_cuad_lado*pixeles_cuad\n",
    "\n",
    "    entrada = entrada_red.view(tamanio, tamanio)\n",
    "    salida_esperada = salida_red.view(tamanio, tamanio)\n",
    "    reconstructed = reconstructed.view(tamanio, tamanio)\n",
    "\n",
    "    imagenes = [entrada, salida_esperada, reconstructed.detach()]\n",
    "    titulos = ['Entrada', 'Salida esperada', 'Salida de la red']\n",
    "\n",
    "    fig, axes = plt.subplots(1, 3, figsize=(15, 5))\n",
    "    for ax, imagen, titulo in zip(axes, imagenes, titulos):\n",
    "        if ecualizar_hist:\n",
    "            im = imagen.cpu().numpy()\n",
    "            im = ((im - im.min()) * 255) / (im.max() - im.min())\n",
    "            imagen = cv2.equalizeHist(im.astype(np.uint8))\n",
    "            titulo += '\\n(ecualizada)'\n",
    "        \n",
    "        ax.imshow(imagen, cmap='gray')\n",
    "        ax.set_title(titulo)\n",
    "\n",
    "    plt.tight_layout()\n",
    "    plt.savefig(f'data/images/{config_name}_{name_suffix}.png', dpi=300, bbox_inches='tight')\n",
    "\n",
    "    if not show_plot:\n",
    "        plt.close(fig)\n",
    "\n",
    "    return imagenes, titulos\n",
    "\n",
    "imagenes, titulos = graph_random_image(ecualizar_hist=ecualizar_hist, name_suffix=1, show_plot=True)"
   ]
  },
  {
   "cell_type": "code",
   "execution_count": 20,
   "metadata": {},
   "outputs": [
    {
     "data": {
      "image/png": "[encoded data removed]",
      "text/plain": [
       "<Figure size 1500x500 with 3 Axes>"
      ]
     },
     "metadata": {},
     "output_type": "display_data"
    }
   ],
   "source": [
    "# Hago lo mismo que arriba, para la misma imagen, pero sin ecualizar\n",
    "\n",
    "ecualizar_hist = False  # Si se quiere o no ecualizar el histograma de la imagen\n",
    "\n",
    "###\n",
    "\n",
    "fig, axes = plt.subplots(1, 3, figsize=(15, 5))\n",
    "for ax, imagen, titulo in zip(axes, imagenes, titulos):\n",
    "    if ecualizar_hist:\n",
    "        im = imagen.cpu().numpy()\n",
    "        im = ((im - im.min()) * 255) / (im.max() - im.min())\n",
    "        imagen = cv2.equalizeHist(im.astype(np.uint8))\n",
    "        titulo += '\\n(ecualizada)'\n",
    "    \n",
    "    ax.imshow(imagen, cmap='gray')\n",
    "    ax.set_title(titulo)\n",
    "\n",
    "plt.tight_layout()"
   ]
  },
  {
   "cell_type": "code",
   "execution_count": 21,
   "metadata": {},
   "outputs": [],
   "source": [
    "# Guardo otra imagen solo para tener a modo de ejemplo\n",
    "imagenes, titulos = graph_random_image(ecualizar_hist=True, name_suffix=2, show_plot=False)"
   ]
  }
 ],
 "metadata": {
  "kernelspec": {
   "display_name": "despeckling",
   "language": "python",
   "name": "python3"
  },
  "language_info": {
   "codemirror_mode": {
    "name": "ipython",
    "version": 3
   },
   "file_extension": ".py",
   "mimetype": "text/x-python",
   "name": "python",
   "nbconvert_exporter": "python",
   "pygments_lexer": "ipython3",
   "version": "3.9.21"
  }
 },
 "nbformat": 4,
 "nbformat_minor": 2
}
