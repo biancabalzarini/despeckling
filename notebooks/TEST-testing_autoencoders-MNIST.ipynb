{
 "cells": [
  {
   "cell_type": "markdown",
   "metadata": {},
   "source": [
    "## Jugando con autoenconders\n",
    "Esta notebook tiene el único objetivo de hacer primeras pruebas con autoencoders. Se puede correr en Google Colab."
   ]
  },
  {
   "cell_type": "code",
   "execution_count": 1,
   "metadata": {},
   "outputs": [],
   "source": [
    "import torch\n",
    "import torch.nn as nn\n",
    "import torch.optim as optim\n",
    "from torch.utils.data import DataLoader\n",
    "from torchvision import transforms\n",
    "from torchvision.datasets import MNIST\n",
    "import matplotlib.pyplot as plt\n"
   ]
  },
  {
   "cell_type": "code",
   "execution_count": 2,
   "metadata": {},
   "outputs": [],
   "source": [
    "# Definir la arquitectura del autoencoder\n",
    "class Autoencoder(nn.Module): # La clase Autoencoder hereda de la clase nn.Module, que es una clase base para todos los modelos en PyTorch.\n",
    "                              # Esto permite que nuestra clase Autoencoder tenga todas las funcionalidades necesarias para ser un modelo de aprendizaje profundo en PyTorch.\n",
    "\n",
    "    # Dentro del método __init__, definimos las capas del autoencoder.\n",
    "    def __init__(self, encoding_dim):\n",
    "\n",
    "        super(Autoencoder, self).__init__()\n",
    "\n",
    "        self.encoder = nn.Sequential( # Encoder\n",
    "                                      # Toma una imagen de entrada y la comprime en una representación de dimensionalidad más baja llamada encoding_dim\n",
    "\n",
    "            # Secuencia de capas del codificador:\n",
    "            nn.Linear(28 * 28, 128), # Capa lineal inicial que toma una imagen de 28x28 píxeles (784 dimensiones después de aplanarla) y la reduce a 128 dimensiones utilizando una función lineal.\n",
    "            nn.ReLU(), # Luego se aplica una función de activación ReLU para introducir no linealidad en la representación.\n",
    "            nn.Linear(128, encoding_dim), # Finalmente, otra capa lineal reduce la dimensionalidad a encoding_dim.\n",
    "        )\n",
    "\n",
    "        self.decoder = nn.Sequential( # Decoder\n",
    "                                      # Devuelve la imágen a su tamaño original.\n",
    "\n",
    "            # Secuencia de capas del decodificador:\n",
    "            nn.Linear(encoding_dim, 128), # Capa lineal que toma la representación de encoding_dim y la expande a 128 dimensiones.\n",
    "            nn.ReLU(), # Luego, se aplica una función de activación ReLU.\n",
    "            nn.Linear(128, 28 * 28), # A continuación, otra capa lineal expande la dimensionalidad a 28x28 píxeles (784 dimensiones).\n",
    "            nn.Sigmoid(), # Finalmente se aplica una función de activación sigmoide para limitar los valores de salida entre 0 y 1.\n",
    "        )\n",
    "\n",
    "    def forward(self, x): # El método forward define cómo se propagan los datos a través del autoencoder.\n",
    "\n",
    "        encoded = self.encoder(x) # Toma una imagen de entrada x, la pasa por el codificador para obtener la representación comprimida encoded.\n",
    "        decoded = self.decoder(encoded) # Luego pasa esta representación por el decodificador para obtener la reconstrucción decoded.\n",
    "        return decoded # La reconstrucción se devuelve como salida.\n"
   ]
  },
  {
   "cell_type": "code",
   "execution_count": 3,
   "metadata": {},
   "outputs": [],
   "source": [
    "# Configuración de hiperparámetros\n",
    "encoding_dim = 32\n",
    "batch_size = 128 # Cantidad de muestras que se procesan en paralelo antes de que se actualicen los pesos del modelo.\n",
    "learning_rate = 1e-3\n",
    "num_epochs = 10\n"
   ]
  },
  {
   "cell_type": "code",
   "execution_count": 4,
   "metadata": {},
   "outputs": [
    {
     "name": "stdout",
     "output_type": "stream",
     "text": [
      "Downloading http://yann.lecun.com/exdb/mnist/train-images-idx3-ubyte.gz\n"
     ]
    },
    {
     "name": "stderr",
     "output_type": "stream",
     "text": [
      "2.6%"
     ]
    },
    {
     "name": "stdout",
     "output_type": "stream",
     "text": [
      "Downloading http://yann.lecun.com/exdb/mnist/train-images-idx3-ubyte.gz to ./data\\MNIST\\raw\\train-images-idx3-ubyte.gz\n"
     ]
    },
    {
     "name": "stderr",
     "output_type": "stream",
     "text": [
      "100.0%\n"
     ]
    },
    {
     "name": "stdout",
     "output_type": "stream",
     "text": [
      "Extracting ./data\\MNIST\\raw\\train-images-idx3-ubyte.gz to ./data\\MNIST\\raw\n",
      "\n",
      "Downloading http://yann.lecun.com/exdb/mnist/train-labels-idx1-ubyte.gz\n"
     ]
    },
    {
     "name": "stderr",
     "output_type": "stream",
     "text": [
      "100.0%"
     ]
    },
    {
     "name": "stdout",
     "output_type": "stream",
     "text": [
      "Downloading http://yann.lecun.com/exdb/mnist/train-labels-idx1-ubyte.gz to ./data\\MNIST\\raw\\train-labels-idx1-ubyte.gz\n",
      "Extracting ./data\\MNIST\\raw\\train-labels-idx1-ubyte.gz to ./data\\MNIST\\raw\n",
      "\n",
      "Downloading http://yann.lecun.com/exdb/mnist/t10k-images-idx3-ubyte.gz\n"
     ]
    },
    {
     "name": "stderr",
     "output_type": "stream",
     "text": [
      "\n",
      "27.8%"
     ]
    },
    {
     "name": "stdout",
     "output_type": "stream",
     "text": [
      "Downloading http://yann.lecun.com/exdb/mnist/t10k-images-idx3-ubyte.gz to ./data\\MNIST\\raw\\t10k-images-idx3-ubyte.gz\n"
     ]
    },
    {
     "name": "stderr",
     "output_type": "stream",
     "text": [
      "100.0%\n"
     ]
    },
    {
     "name": "stdout",
     "output_type": "stream",
     "text": [
      "Extracting ./data\\MNIST\\raw\\t10k-images-idx3-ubyte.gz to ./data\\MNIST\\raw\n",
      "\n",
      "Downloading http://yann.lecun.com/exdb/mnist/t10k-labels-idx1-ubyte.gz\n"
     ]
    },
    {
     "name": "stderr",
     "output_type": "stream",
     "text": [
      "100.0%"
     ]
    },
    {
     "name": "stdout",
     "output_type": "stream",
     "text": [
      "Downloading http://yann.lecun.com/exdb/mnist/t10k-labels-idx1-ubyte.gz to ./data\\MNIST\\raw\\t10k-labels-idx1-ubyte.gz\n",
      "Extracting ./data\\MNIST\\raw\\t10k-labels-idx1-ubyte.gz to ./data\\MNIST\\raw\n",
      "\n"
     ]
    },
    {
     "name": "stderr",
     "output_type": "stream",
     "text": [
      "\n"
     ]
    }
   ],
   "source": [
    "# Cargar los datos de entrenamiento (MNIST)\n",
    "transform = transforms.Compose([transforms.ToTensor()]) # Convertir las imágenes en tensores de tipo torch.Tensor, lo que permite el procesamiento eficiente de los datos en el modelo.\n",
    "train_dataset = MNIST(root='./data', train=True, transform=transform, download=True) # Crea una instancia del conjunto de datos MNIST para el entrenamiento.\n",
    "train_loader = DataLoader(train_dataset, batch_size=batch_size, shuffle=True) # Aquí se crea un objeto DataLoader, que es responsable de cargar los datos en el modelo durante el entrenamiento.\n",
    "                                                                              # train_dataset es el conjunto de datos que se va a cargar.\n",
    "                                                                              # batch_size indica el número de ejemplos que se cargarán juntos en cada iteración.\n",
    "                                                                              # shuffle=True significa que los datos se barajarán aleatoriamente en cada época de entrenamiento para introducir variedad y evitar sesgos en el orden de los ejemplos.\n",
    "\n",
    "# Solo como comentario, si quiero hacerle varias transformaciones a las imagenes, puedo usar el compose para hacerlas todas seguidas.\n",
    "# Aca hay unos ejemplos de las cosas que se pueden hacer con transforms:\n",
    "#transform = transforms.Compose([\n",
    "#    transforms.Resize((64, 64)),   # Cambiar tamaño a 64x64\n",
    "#    transforms.ToTensor(),         # Convertir a tensor\n",
    "#    transforms.Normalize(mean=[0.5, 0.5, 0.5], std=[0.5, 0.5, 0.5])  # Normalización\n",
    "#])\n",
    "\n",
    "\n",
    "# Info util sobre DataLoders y DataSets, para cargar eficientemente el dataset de imagenes\n",
    "# https://pytorch.org/tutorials/beginner/basics/data_tutorial.html\n"
   ]
  },
  {
   "cell_type": "code",
   "execution_count": 5,
   "metadata": {},
   "outputs": [
    {
     "data": {
      "image/png": "[encoded data removed]",
      "text/plain": [
       "<Figure size 640x480 with 1 Axes>"
      ]
     },
     "metadata": {},
     "output_type": "display_data"
    }
   ],
   "source": [
    "# Visualizamos una de las imágenes del set de entrenamiento solo a modo de ejemplo.\n",
    "image, label = train_dataset[348]\n",
    "plt.imshow(image.squeeze(), cmap='gray')\n",
    "plt.axis('off')\n",
    "plt.show()\n"
   ]
  },
  {
   "cell_type": "code",
   "execution_count": 6,
   "metadata": {},
   "outputs": [],
   "source": [
    "# Crear la instancia del autoencoder\n",
    "autoencoder = Autoencoder(encoding_dim)\n"
   ]
  },
  {
   "cell_type": "code",
   "execution_count": 7,
   "metadata": {},
   "outputs": [],
   "source": [
    "# Definir la función de pérdida y el optimizador\n",
    "criterion = nn.BCELoss()  # Utilizamos Binary Cross Entropy Loss como loss function ya que las imágenes están normalizadas en el rango [0, 1]\n",
    "optimizer = optim.Adam(autoencoder.parameters(), lr=learning_rate) # El optimizador es responsable de ajustar los pesos del modelo con el fin de minimizar la función de pérdida.\n",
    "                                                                   # Adam es un algoritmo de optimización popular y eficiente que adapta la tasa de aprendizaje de forma dinámica para cada parámetro del modelo.\n",
    "                                                                   # La tasa de aprendizaje determina qué tan rápido se ajustan los pesos del modelo durante el entrenamiento.\n"
   ]
  },
  {
   "cell_type": "code",
   "execution_count": 8,
   "metadata": {},
   "outputs": [
    {
     "name": "stdout",
     "output_type": "stream",
     "text": [
      "Epoch [1/10], Loss: 0.1398\n",
      "Epoch [2/10], Loss: 0.1120\n",
      "Epoch [3/10], Loss: 0.0998\n",
      "Epoch [4/10], Loss: 0.1003\n",
      "Epoch [5/10], Loss: 0.0930\n",
      "Epoch [6/10], Loss: 0.0886\n",
      "Epoch [7/10], Loss: 0.0917\n",
      "Epoch [8/10], Loss: 0.0824\n",
      "Epoch [9/10], Loss: 0.0866\n",
      "Epoch [10/10], Loss: 0.0897\n"
     ]
    }
   ],
   "source": [
    "# Entrenamiento del autoencoder\n",
    "for epoch in range(num_epochs):\n",
    "    for data in train_loader:\n",
    "        images, _ = data\n",
    "        images = images.view(images.size(0), -1)\n",
    "\n",
    "        # Forward pass\n",
    "        outputs = autoencoder(images) # Se pasa a las imágenes por el autoencoder, en una pasada forward.\n",
    "        loss = criterion(outputs, images) # Se calcula la diferencia entre el output y las imágenes originales, según la función de pérdida definida.\n",
    "\n",
    "        # Backward pass y optimización\n",
    "        optimizer.zero_grad() # Se restablecen los gradientes acumulados en todos los parámetros del modelo.\n",
    "                              # Esto es necesario antes de realizar el backward pass, ya que PyTorch acumula los gradientes en cada llamada a loss.backward().\n",
    "        loss.backward() # Se realiza el backward pass para calcular los gradientes de los parámetros del autoencoder utilizando la función de pérdida.\n",
    "        optimizer.step() # Finalmente se realiza la optimización de los parámetros del modelo mediante la llamada a optimizer.step(), que actualiza los parámetros en función de los gradientes calculados.\n",
    "\n",
    "    # Imprimir la pérdida del autoencoder en cada época\n",
    "    print(f\"Epoch [{epoch+1}/{num_epochs}], Loss: {loss.item():.4f}\")\n"
   ]
  },
  {
   "cell_type": "code",
   "execution_count": 9,
   "metadata": {},
   "outputs": [
    {
     "name": "stdout",
     "output_type": "stream",
     "text": [
      "Average Test Loss: 0.0847\n"
     ]
    }
   ],
   "source": [
    "# Evaluación del autoencoder\n",
    "test_dataset = MNIST(root='./data', train=False, transform=transform, download=True)\n",
    "test_loader = DataLoader(test_dataset, batch_size=batch_size, shuffle=False)\n",
    "\n",
    "total_loss = 0\n",
    "with torch.no_grad(): # Esto es para asegurarse de que no se realicen cálculos de gradientes durante la evaluación del autoencoder.\n",
    "                      # Al entrar en este bloque, se desactiva el cálculo y almacenamiento automático de gradientes para reducir el uso de memoria y acelerar la evaluación.\n",
    "    for data in test_loader:\n",
    "        images, _ = data # _ se utiliza para descartar las etiquetas, ya que no son necesarias para la evaluación.\n",
    "        images = images.view(images.size(0), -1) # Se modifica la forma de las imágenes para que coincida con el formato esperado por el autoencoder.\n",
    "                                                 # En este caso, las imágenes se aplanan en un tensor unidimensional. images.size(0) se utiliza para obtener el tamaño del lote.\n",
    "\n",
    "        # Forward pass\n",
    "        outputs = autoencoder(images) # Se realiza el forward pass del autoencoder con las imágenes de prueba.\n",
    "                                      # El autoencoder genera las imágenes reconstruidas utilizando el método forward() que definimos previamente en la clase Autoencoder.\n",
    "        loss = criterion(outputs, images) # Se calcula la pérdida entre las imágenes reconstruidas y las imágenes originales utilizando la función de pérdida (criterion).\n",
    "                                          # Esto proporciona una medida de cuánto difieren las imágenes reconstruidas de las originales.\n",
    "        total_loss += loss.item() # La pérdida obtenida en cada iteración se suma a la variable total_loss utilizando loss.item(), que devuelve el valor escalar de la pérdida.\n",
    "                                  # Al final de la iteración, total_loss contendrá la suma acumulada de las pérdidas de todas las muestras del conjunto de datos de prueba.\n",
    "\n",
    "average_loss = total_loss / len(test_loader) # Se calcula la pérdida promedio dividiendo la suma acumulada de las pérdidas (total_loss) entre el número de lotes en el conjunto de datos de prueba (len(test_loader)).\n",
    "                                             # Esto proporciona una medida promedio de la discrepancia entre las imágenes originales y las imágenes reconstruidas por el autoencoder en el conjunto de datos de prueba.\n",
    "print(f\"Average Test Loss: {average_loss:.4f}\")\n"
   ]
  },
  {
   "cell_type": "code",
   "execution_count": 10,
   "metadata": {},
   "outputs": [
    {
     "data": {
      "text/plain": [
       "(-0.5, 27.5, 27.5, -0.5)"
      ]
     },
     "execution_count": 10,
     "metadata": {},
     "output_type": "execute_result"
    },
    {
     "data": {
      "image/png": "[encoded data removed]",
      "text/plain": [
       "<Figure size 640x480 with 2 Axes>"
      ]
     },
     "metadata": {},
     "output_type": "display_data"
    }
   ],
   "source": [
    "# Ahora aplicamos el autoencoder a un ejemplo particular del dataset de testeo y vemos cómo queda la imagen reconstriuda.\n",
    "\n",
    "index = 978  # Índice del ejemplo puntual que se desea seleccionar\n",
    "example = test_dataset[index][0]  # Obtiene la imagen original del ejemplo\n",
    "\n",
    "example = example.view(1, -1)  # Ajusta la forma de la imagen a un lote de tamaño 1\n",
    "\n",
    "reconstructed = autoencoder(example)  # Aplica el autoencoder al ejemplo\n",
    "\n",
    "original = example.view(28, 28)  # Ajusta la forma de la imagen original\n",
    "reconstructed = reconstructed.view(28, 28)  # Ajusta la forma de la imagen reconstruida\n",
    "\n",
    "plt.subplot(1, 2, 1)\n",
    "plt.imshow(original, cmap='gray')\n",
    "plt.title('Original')\n",
    "plt.axis('off')\n",
    "\n",
    "plt.subplot(1, 2, 2)\n",
    "plt.imshow(reconstructed.detach(), cmap='gray')\n",
    "plt.title('Reconstructed')\n",
    "plt.axis('off')\n"
   ]
  },
  {
   "cell_type": "markdown",
   "metadata": {},
   "source": [
    "Dejo este pedazo de código para tener una idea de cómo habría que cambiar el entrenamiento para que compare la salida del autoencoder con las imágenes limpias en vez de con las imágenes ruidosas del input:"
   ]
  },
  {
   "cell_type": "code",
   "execution_count": null,
   "metadata": {},
   "outputs": [],
   "source": [
    "\"\"\"\n",
    "# Dentro del bucle de entrenamiento\n",
    "for data in train_loader:\n",
    "    noisy_images, clean_images = data\n",
    "    noisy_images = noisy_images.view(noisy_images.size(0), -1)\n",
    "    clean_images = clean_images.view(clean_images.size(0), -1)\n",
    "\n",
    "    # Forward pass\n",
    "    outputs = autoencoder(noisy_images)\n",
    "    loss = criterion(outputs, clean_images)\n",
    "\n",
    "    # Backward pass y optimización\n",
    "    optimizer.zero_grad()\n",
    "    loss.backward()\n",
    "    optimizer.step()\n",
    "\"\"\"\n"
   ]
  }
 ],
 "metadata": {
  "kernelspec": {
   "display_name": "despeckling",
   "language": "python",
   "name": "python3"
  },
  "language_info": {
   "codemirror_mode": {
    "name": "ipython",
    "version": 3
   },
   "file_extension": ".py",
   "mimetype": "text/x-python",
   "name": "python",
   "nbconvert_exporter": "python",
   "pygments_lexer": "ipython3",
   "version": "3.9.17"
  }
 },
 "nbformat": 4,
 "nbformat_minor": 2
}
