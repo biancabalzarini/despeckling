{
 "cells": [
  {
   "cell_type": "code",
   "execution_count": null,
   "id": "c028db89",
   "metadata": {},
   "outputs": [],
   "source": [
    "import pyreadr #para leer datos de tipo RData\n",
    "import numpy as np\n",
    "import cv2 as cv2\n",
    "import matplotlib.pyplot as plt\n",
    "from matplotlib import colors\n",
    "\n",
    "\n",
    "#%% Ecualización del Histograma para uint16\n",
    "\n",
    "def Ecualizauint16(img):\n",
    "    hist,bins = np.histogram(img.flatten(),65536,[0,65536])\n",
    "    cdf = hist.cumsum()\n",
    "    cdf_m = np.ma.masked_equal(cdf, 0)  \n",
    "    cdf_m = (cdf_m - cdf_m.min())*65535/(cdf_m.max()-cdf_m.min())\n",
    "    cdf_equ= np.ma.filled(cdf_m,0).astype('uint16')\n",
    "    return cdf_equ[img]\n",
    "\n",
    "#%%\n",
    "# Levantamos los RData\n",
    "\n",
    "imageMunich = pyreadr.read_r('../../Images/Munich.RData')\n",
    "\n",
    "\n",
    "#%%\n",
    "\n",
    "# Convierte la imagen a arrays\n",
    "Munich = np.array(list(imageMunich.items())[0][1])\n",
    "\n",
    "\n",
    "#%%\n",
    "\n",
    "img1 = np.array(Munich, dtype=np.float64)\n",
    "\n",
    "#normaliza\n",
    "img2 = (img1 - np.min(img1)) * 65536/(np.max(img1) - np.min(img1))\n",
    "\n",
    "#pasa a uint16\n",
    "img3 = np.array(img2, dtype=np.uint16)\n",
    "\n",
    "#ecualiza\n",
    "img4 = Ecualizauint16(img3)\n",
    "#%%\n",
    "\n",
    "plt.imshow(img4,cmap='gray'),plt.title('Imagen de Munich'), plt.axis('off')"
   ]
  }
 ],
 "metadata": {
  "language_info": {
   "name": "python"
  }
 },
 "nbformat": 4,
 "nbformat_minor": 5
}
